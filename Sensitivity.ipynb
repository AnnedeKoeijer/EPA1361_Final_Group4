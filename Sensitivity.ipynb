{
 "cells": [
  {
   "cell_type": "code",
   "execution_count": 49,
   "outputs": [],
   "source": [
    "from ema_workbench import load_results\n",
    "import pandas as pd\n",
    "import statsmodels.api as sm\n",
    "from ema_workbench.analysis import prim\n",
    "from ema_workbench import ema_logging\n",
    "import numpy as np\n",
    "desired_width = 320\n",
    "pd.set_option('display.width', desired_width)\n",
    "pd.set_option('display.max_columns',50)\n",
    "from problem_formulation import get_model_for_problem_formulation\n",
    "from ema_workbench.em_framework.salib_samplers import get_SALib_problem\n",
    "from dike_model_simulation import problem_formulation\n",
    "from SALib.analyze import sobol\n",
    "import seaborn as sns\n",
    "import matplotlib.pyplot as plt\n",
    "import os\n",
    "from ema_workbench.analysis import feature_scoring\n",
    "from PIL import Image\n",
    "\n",
    "\n",
    "dike_model, planning_steps = get_model_for_problem_formulation(problem_formulation)\n"
   ],
   "metadata": {
    "collapsed": false,
    "ExecuteTime": {
     "end_time": "2023-06-12T10:06:47.761468Z",
     "start_time": "2023-06-12T10:06:47.642973700Z"
    }
   }
  },
  {
   "cell_type": "code",
   "execution_count": 50,
   "outputs": [],
   "source": [
    "def setup_dataframe_outcomes (outcomes):\n",
    "    outcome = {f'{key} {i + 1}': value[:, i] for key, value in outcomes.items() for i in range(value.shape[1])}\n",
    "    df_outcomes = pd.DataFrame(outcome)\n",
    "    for i in range(1,6):\n",
    "        df_outcomes[f'A.{i}_Expected_Annual_Damage'] = (df_outcomes[[col for col in df_outcomes.columns if col.startswith(f'A.{i}_Expected Annual Damage')]].sum(axis=1))*(200/len(planning_steps))\n",
    "        df_outcomes = df_outcomes.drop(df_outcomes.columns[df_outcomes.columns.str.startswith(f'A.{i}_Expected Annual Damage')], axis=1)\n",
    "\n",
    "        df_outcomes[f'A.{i}_Dike_Investment_Costs'] = df_outcomes[[col for col in df_outcomes.columns if col.startswith(f'A.{i}_Dike Investment Costs')]].sum(axis=1)\n",
    "        df_outcomes = df_outcomes.drop(df_outcomes.columns[df_outcomes.columns.str.startswith(f'A.{i}_Dike Investment Costs')], axis=1)\n",
    "\n",
    "        df_outcomes[f'A.{i}_Expected_Number_of_Deaths'] = df_outcomes[[col for col in df_outcomes.columns if col.startswith(f'A.{i}_Expected Number of Deaths')]].sum(axis=1)*(200/len(planning_steps))\n",
    "        df_outcomes = df_outcomes.drop(df_outcomes.columns[df_outcomes.columns.str.startswith(f'A.{i}_Expected Number of Deaths')], axis=1)\n",
    "\n",
    "    df_outcomes['RfR_Total_Costs'] = df_outcomes[[col for col in df_outcomes.columns if col.startswith('RfR Total Costs')]].sum(axis=1)\n",
    "    df_outcomes = df_outcomes.drop(df_outcomes.columns[df_outcomes.columns.str.startswith('RfR Total Costs')], axis=1)\n",
    "\n",
    "    df_outcomes['Expected_evacuation_costs'] = df_outcomes[[col for col in df_outcomes.columns if col.startswith('Expected Evacuation Costs')]].sum(axis=1)\n",
    "    df_outcomes = df_outcomes.drop(df_outcomes.columns[df_outcomes.columns.str.startswith('Expected Evacuation Costs')], axis=1)\n",
    "\n",
    "    df_outcomes['Total_Expected_Number_of_Deaths'] = df_outcomes[[col for col in df_outcomes.columns if col.endswith('Expected_Number_of_Deaths')]].sum(axis=1)\n",
    "    df_outcomes['Total_Dike_Investment_Costs'] = df_outcomes[[col for col in df_outcomes.columns if col.endswith('Dike_Investment_Costs')]].sum(axis=1)\n",
    "    df_outcomes['Total_Expected_Annual_Damage'] = df_outcomes[[col for col in df_outcomes.columns if col.endswith('Expected_Annual_Damage')]].sum(axis=1)\n",
    "    return df_outcomes"
   ],
   "metadata": {
    "collapsed": false,
    "ExecuteTime": {
     "end_time": "2023-06-12T10:06:47.881340Z",
     "start_time": "2023-06-12T10:06:47.868304900Z"
    }
   }
  },
  {
   "cell_type": "code",
   "execution_count": 51,
   "outputs": [],
   "source": [
    "def run_regression (kpi, df_outcomes, df_experiments, name):\n",
    "    final_lhs = df_outcomes[kpi]\n",
    "    X_0 = sm.add_constant(df_experiments)\n",
    "    est = sm.OLS(final_lhs, X_0.astype(float)).fit()\n",
    "    parameters_df = pd.DataFrame(est.params, columns=['Parameter'])\n",
    "    parameters_df.index.name = 'Variable'\n",
    "    # Save parameters to CSV\n",
    "    parameters_df.to_csv(f'./results/{name}/parameters_{kpi}.csv')\n",
    "    # Save summary to CSV\n",
    "    with open(f'./results/{name}/summary_{kpi}.txt', 'w') as f:\n",
    "        f.write(est.summary().as_text())"
   ],
   "metadata": {
    "collapsed": false,
    "ExecuteTime": {
     "end_time": "2023-06-12T10:06:48.161973600Z",
     "start_time": "2023-06-12T10:06:48.135629Z"
    }
   }
  },
  {
   "cell_type": "markdown",
   "source": [
    "#### 2. Sobol"
   ],
   "metadata": {
    "collapsed": false
   }
  },
  {
   "cell_type": "code",
   "execution_count": 52,
   "outputs": [],
   "source": [
    "def run_sobol(df_outcomes_sobol, kpi, problem, name):\n",
    "    final_sobol = df_outcomes_sobol[kpi].to_numpy()\n",
    "    Si = sobol.analyze(problem, final_sobol, calc_second_order=True, print_to_console=True)\n",
    "    Si_filter = {k: Si[k] for k in ['ST', 'ST_conf', 'S1', 'S1_conf']}\n",
    "    Si_df = pd.DataFrame(Si_filter, index=problem['names'])\n",
    "\n",
    "    try:\n",
    "        sns.set_style('white')\n",
    "        fig, ax = plt.subplots(1)\n",
    "\n",
    "        indices = Si_df[['S1', 'ST']]\n",
    "        err = Si_df[['S1_conf', 'ST_conf']]\n",
    "\n",
    "        indices.plot.bar(yerr=err.values.T, ax=ax)\n",
    "        fig.set_size_inches(8, 6)\n",
    "        fig.subplots_adjust(bottom=0.3)\n",
    "\n",
    "        # Create the directory if it doesn't exist\n",
    "        os.makedirs(f'./results/{name}', exist_ok=True)\n",
    "\n",
    "        plt.savefig(f'./results/{name}/sobol_plot_{kpi}.png')\n",
    "\n",
    "        plt.close(fig)  # Close the figure to free up resources\n",
    "    except Exception as e:\n",
    "        print(f\"An error occurred while creating the plot: {str(e)}\")\n",
    "        # Perform any desired actions when the plot cannot be created\n",
    "        # For example, return an empty plot, log the error, or continue with other code\n"
   ],
   "metadata": {
    "collapsed": false,
    "ExecuteTime": {
     "end_time": "2023-06-12T10:06:48.674654900Z",
     "start_time": "2023-06-12T10:06:48.668368Z"
    }
   }
  },
  {
   "cell_type": "code",
   "execution_count": 57,
   "outputs": [],
   "source": [
    "def check_convergence (df_outcomes, kpi, problem, name, sort):\n",
    "    Y = df_outcomes[kpi].to_numpy()\n",
    "    s_data = pd.DataFrame(index=problem['names'],\n",
    "                          columns=np.arange(20,100,50)*(2*problem['num_vars']+2))\n",
    "    for j in s_data.columns:\n",
    "        scores = sobol.analyze(problem, Y[0:j], calc_second_order=True, print_to_console=False)\n",
    "        s_data.loc[:,j] = scores['ST']\n",
    "    fig, ax = plt.subplots(1)\n",
    "\n",
    "    s_data.T.plot(ax=ax)\n",
    "    ax.set_xlabel('Samples')\n",
    "    ax.set_ylabel('Total index (ST)')\n",
    "    ax.legend(loc='upper center', bbox_to_anchor=(0.5, -0.05),\n",
    "              fancybox=True, shadow=True, ncol=5)\n",
    "    plt.savefig(f'./results/{name}/scenario_check_convergence_{kpi}_{sort}.png')"
   ],
   "metadata": {
    "collapsed": false,
    "ExecuteTime": {
     "end_time": "2023-06-12T10:38:08.560606100Z",
     "start_time": "2023-06-12T10:38:08.559821200Z"
    }
   }
  },
  {
   "cell_type": "markdown",
   "source": [
    "#### 3. Extra trees"
   ],
   "metadata": {
    "collapsed": false
   }
  },
  {
   "cell_type": "code",
   "execution_count": 58,
   "outputs": [],
   "source": [
    "def extra_trees(df_outcomes, experiments, name):\n",
    "    df_outcomes_kpis = df_outcomes[['Total_Expected_Number_of_Deaths','Total_Dike_Investment_Costs','Total_Expected_Annual_Damage', 'Expected_evacuation_costs', 'RfR_Total_Costs' ]].copy()\n",
    "\n",
    "    fs = feature_scoring.get_feature_scores_all(experiments,df_outcomes_kpis)\n",
    "    sns.heatmap(fs, cmap=\"viridis\", annot=True)\n",
    "    plt.savefig(f'./results/{name}/Tree_analysis_incl_policies.png', dpi = 300)\n",
    "\n",
    "    experiments_uncertainties = experiments[['A.0_ID flood wave shape', 'A.1_Bmax', 'A.1_Brate', 'A.1_pfail', 'A.2_Bmax', 'A.2_Brate', 'A.2_pfail', 'A.3_Bmax', 'A.3_Brate', 'A.3_pfail', 'A.4_Bmax', 'A.4_Brate', 'A.4_pfail', 'A.5_Bmax', 'A.5_Brate', 'A.5_pfail', 'discount rate 0', 'discount rate 1', 'discount rate 2', 'discount rate 3']].copy()\n",
    "\n",
    "    fs = feature_scoring.get_feature_scores_all(experiments_uncertainties,df_outcomes_kpis)\n",
    "    plt.legend(loc='upper center', bbox_to_anchor=(0.5, -0.05), fancybox=True, shadow=True, ncol=5)\n",
    "    sns.heatmap(fs, cmap=\"viridis\", annot=True)\n",
    "    plt.savefig(f'./results/{name}/Tree_analysis_uncertainties.png', dpi = 300, bbox_extra_artists=(lgd,), bbox_inches='tight')\n"
   ],
   "metadata": {
    "collapsed": false,
    "ExecuteTime": {
     "end_time": "2023-06-12T10:38:09.150751700Z",
     "start_time": "2023-06-12T10:38:09.143728900Z"
    }
   }
  },
  {
   "cell_type": "markdown",
   "source": [
    "#### 4. Running the full code"
   ],
   "metadata": {
    "collapsed": false
   }
  },
  {
   "cell_type": "code",
   "execution_count": 59,
   "outputs": [],
   "source": [
    "def run_sensitivity_analysis(sobol, regular, name):\n",
    "    if not os.path.exists(f'./results/{name}'):\n",
    "        os.mkdir(f'./results/{name}')\n",
    "    else:\n",
    "        for filename in os.listdir(f'./results/{name}'):\n",
    "            file_path = os.path.join(f'./results/{name}', filename)\n",
    "            if os.path.isfile(file_path):\n",
    "                os.remove(file_path)\n",
    "        # shutil.rmtree(f'./results/{name}')\n",
    "        # os.mkdir(f'./results/{name}')\n",
    "    experiments, outcomes = load_results(regular)\n",
    "    experiments_sobol, outcomes_sobol = load_results(sobol)\n",
    "    df_outcomes = setup_dataframe_outcomes(outcomes)\n",
    "    df_outcomes_sobol = setup_dataframe_outcomes(outcomes_sobol)\n",
    "\n",
    "    df_experiments = experiments.drop(['policy', 'model', 'scenario'], axis = 1)\n",
    "    df_experiments_sobol = experiments_sobol.drop(['policy', 'model', 'scenario'], axis = 1)\n",
    "    run_regression ('Total_Expected_Number_of_Deaths', df_outcomes, df_experiments, name)\n",
    "    run_regression ('Total_Dike_Investment_Costs', df_outcomes, df_experiments, name)\n",
    "    run_regression ('Total_Expected_Annual_Damage', df_outcomes, df_experiments, name)\n",
    "    run_regression ('Expected_evacuation_costs', df_outcomes, df_experiments, name)\n",
    "    run_regression ('RfR_Total_Costs', df_outcomes, df_experiments, name)\n",
    "\n",
    "    problem = get_SALib_problem(dike_model.uncertainties)\n",
    "\n",
    "    run_sobol (df_outcomes_sobol, 'Total_Expected_Number_of_Deaths', problem, name)\n",
    "    run_sobol (df_outcomes_sobol, 'Total_Dike_Investment_Costs', problem, name)\n",
    "    run_sobol (df_outcomes_sobol, 'Total_Expected_Annual_Damage', problem, name)\n",
    "    run_sobol (df_outcomes_sobol, 'Expected_evacuation_costs', problem, name)\n",
    "    run_sobol (df_outcomes_sobol, 'RfR_Total_Costs', problem, name)\n",
    "\n",
    "    check_convergence (df_outcomes, 'Total_Expected_Number_of_Deaths', problem, name, 'sobol')\n",
    "    check_convergence (df_outcomes, 'Total_Dike_Investment_Costs', problem, name, 'sobol')\n",
    "    check_convergence (df_outcomes, 'Total_Expected_Annual_Damage', problem, name, 'sobol')\n",
    "    check_convergence (df_outcomes, 'Expected_evacuation_costs', problem, name, 'sobol')\n",
    "    check_convergence (df_outcomes, 'RfR_Total_Costs', problem, name, 'sobol')\n",
    "\n",
    "    check_convergence (df_outcomes, 'Total_Expected_Number_of_Deaths', problem, name, 'regular')\n",
    "    check_convergence (df_outcomes, 'Total_Dike_Investment_Costs', problem, name, 'regular')\n",
    "    check_convergence (df_outcomes, 'Total_Expected_Annual_Damage', problem, name, 'regular')\n",
    "    check_convergence (df_outcomes, 'Expected_evacuation_costs', problem, name, 'regular')\n",
    "    check_convergence (df_outcomes, 'RfR_Total_Costs', problem, name, 'regular')\n",
    "\n",
    "    extra_trees(df_outcomes, experiments, name)"
   ],
   "metadata": {
    "collapsed": false,
    "ExecuteTime": {
     "end_time": "2023-06-12T10:38:09.914948600Z",
     "start_time": "2023-06-12T10:38:09.905047300Z"
    }
   }
  },
  {
   "cell_type": "code",
   "execution_count": 60,
   "outputs": [
    {
     "name": "stderr",
     "output_type": "stream",
     "text": [
      "C:\\Users\\lvanv\\AppData\\Local\\Programs\\Python\\Python311\\Lib\\site-packages\\statsmodels\\regression\\linear_model.py:1781: RuntimeWarning: invalid value encountered in scalar divide\n",
      "  return 1 - self.ssr/self.centered_tss\n",
      "C:\\Users\\lvanv\\AppData\\Local\\Programs\\Python\\Python311\\Lib\\site-packages\\statsmodels\\regression\\linear_model.py:1870: RuntimeWarning: invalid value encountered in scalar divide\n",
      "  return self.mse_model/self.mse_resid\n",
      "C:\\Users\\lvanv\\AppData\\Local\\Programs\\Python\\Python311\\Lib\\site-packages\\statsmodels\\regression\\linear_model.py:956: RuntimeWarning: divide by zero encountered in log\n",
      "  llf = -nobs2*np.log(2*np.pi) - nobs2*np.log(ssr / nobs) - nobs2\n",
      "C:\\Users\\lvanv\\AppData\\Local\\Programs\\Python\\Python311\\Lib\\site-packages\\statsmodels\\stats\\stattools.py:50: RuntimeWarning: invalid value encountered in scalar divide\n",
      "  dw = np.sum(diff_resids**2, axis=axis) / np.sum(resids**2, axis=axis)\n",
      "C:\\Users\\lvanv\\AppData\\Local\\Programs\\Python\\Python311\\Lib\\site-packages\\statsmodels\\regression\\linear_model.py:1781: RuntimeWarning: invalid value encountered in scalar divide\n",
      "  return 1 - self.ssr/self.centered_tss\n",
      "C:\\Users\\lvanv\\AppData\\Local\\Programs\\Python\\Python311\\Lib\\site-packages\\statsmodels\\regression\\linear_model.py:1870: RuntimeWarning: invalid value encountered in scalar divide\n",
      "  return self.mse_model/self.mse_resid\n",
      "C:\\Users\\lvanv\\AppData\\Local\\Programs\\Python\\Python311\\Lib\\site-packages\\statsmodels\\regression\\linear_model.py:956: RuntimeWarning: divide by zero encountered in log\n",
      "  llf = -nobs2*np.log(2*np.pi) - nobs2*np.log(ssr / nobs) - nobs2\n",
      "C:\\Users\\lvanv\\AppData\\Local\\Programs\\Python\\Python311\\Lib\\site-packages\\statsmodels\\stats\\stattools.py:50: RuntimeWarning: invalid value encountered in scalar divide\n",
      "  dw = np.sum(diff_resids**2, axis=axis) / np.sum(resids**2, axis=axis)\n",
      "C:\\Users\\lvanv\\AppData\\Local\\Programs\\Python\\Python311\\Lib\\site-packages\\statsmodels\\regression\\linear_model.py:1781: RuntimeWarning: invalid value encountered in scalar divide\n",
      "  return 1 - self.ssr/self.centered_tss\n",
      "C:\\Users\\lvanv\\AppData\\Local\\Programs\\Python\\Python311\\Lib\\site-packages\\statsmodels\\regression\\linear_model.py:1870: RuntimeWarning: invalid value encountered in scalar divide\n",
      "  return self.mse_model/self.mse_resid\n",
      "C:\\Users\\lvanv\\AppData\\Local\\Programs\\Python\\Python311\\Lib\\site-packages\\statsmodels\\regression\\linear_model.py:956: RuntimeWarning: divide by zero encountered in log\n",
      "  llf = -nobs2*np.log(2*np.pi) - nobs2*np.log(ssr / nobs) - nobs2\n",
      "C:\\Users\\lvanv\\AppData\\Local\\Programs\\Python\\Python311\\Lib\\site-packages\\statsmodels\\stats\\stattools.py:50: RuntimeWarning: invalid value encountered in scalar divide\n",
      "  dw = np.sum(diff_resids**2, axis=axis) / np.sum(resids**2, axis=axis)\n"
     ]
    },
    {
     "name": "stdout",
     "output_type": "stream",
     "text": [
      "                                   ST   ST_conf\n",
      "A.0_ID flood wave shape  8.358499e-03  0.003620\n",
      "A.1_Bmax                 2.836913e-02  0.014621\n",
      "A.1_Brate                1.847583e-04  0.000189\n",
      "A.1_pfail                2.775689e-01  0.038566\n",
      "A.2_Bmax                 3.044715e-03  0.004862\n",
      "A.2_Brate                1.618513e-05  0.000017\n",
      "A.2_pfail                2.643895e-02  0.012379\n",
      "A.3_Bmax                 9.589437e-05  0.000110\n",
      "A.3_Brate                1.206793e-05  0.000017\n",
      "A.3_pfail                7.203475e-01  0.101341\n",
      "A.4_Bmax                 7.255290e-06  0.000009\n",
      "A.4_Brate                7.205796e-07  0.000001\n",
      "A.4_pfail                1.840275e-03  0.001247\n",
      "A.5_Bmax                 0.000000e+00  0.000000\n",
      "A.5_Brate                0.000000e+00  0.000000\n",
      "A.5_pfail                1.700907e-02  0.005171\n",
      "discount rate 0          0.000000e+00  0.000000\n",
      "discount rate 1          0.000000e+00  0.000000\n",
      "discount rate 2          0.000000e+00  0.000000\n",
      "discount rate 3          0.000000e+00  0.000000\n",
      "                               S1   S1_conf\n",
      "A.0_ID flood wave shape -0.007774  0.009385\n",
      "A.1_Bmax                 0.000588  0.021332\n",
      "A.1_Brate               -0.000639  0.002093\n",
      "A.1_pfail                0.127190  0.065092\n",
      "A.2_Bmax                 0.004906  0.006810\n",
      "A.2_Brate                0.000300  0.000471\n",
      "A.2_pfail               -0.012526  0.022359\n",
      "A.3_Bmax                -0.000558  0.001139\n",
      "A.3_Brate               -0.000461  0.000544\n",
      "A.3_pfail                0.584965  0.117176\n",
      "A.4_Bmax                -0.000042  0.000409\n",
      "A.4_Brate                0.000030  0.000044\n",
      "A.4_pfail                0.003623  0.004237\n",
      "A.5_Bmax                 0.000000  0.000000\n",
      "A.5_Brate                0.000000  0.000000\n",
      "A.5_pfail                0.011397  0.014591\n",
      "discount rate 0          0.000000  0.000000\n",
      "discount rate 1          0.000000  0.000000\n",
      "discount rate 2          0.000000  0.000000\n",
      "discount rate 3          0.000000  0.000000\n",
      "                                            S2   S2_conf\n",
      "(A.0_ID flood wave shape, A.1_Bmax)   0.006342  0.013488\n",
      "(A.0_ID flood wave shape, A.1_Brate)  0.006923  0.013091\n",
      "(A.0_ID flood wave shape, A.1_pfail)  0.008521  0.012150\n",
      "(A.0_ID flood wave shape, A.2_Bmax)   0.006856  0.013059\n",
      "(A.0_ID flood wave shape, A.2_Brate)  0.007155  0.013069\n",
      "...                                        ...       ...\n",
      "(discount rate 0, discount rate 2)    0.000000  0.000000\n",
      "(discount rate 0, discount rate 3)    0.000000  0.000000\n",
      "(discount rate 1, discount rate 2)    0.000000  0.000000\n",
      "(discount rate 1, discount rate 3)    0.000000  0.000000\n",
      "(discount rate 2, discount rate 3)    0.000000  0.000000\n",
      "\n",
      "[190 rows x 2 columns]\n"
     ]
    },
    {
     "name": "stderr",
     "output_type": "stream",
     "text": [
      "C:\\Users\\lvanv\\AppData\\Local\\Programs\\Python\\Python311\\Lib\\site-packages\\SALib\\analyze\\sobol.py:129: RuntimeWarning: invalid value encountered in divide\n",
      "  Y = (Y - Y.mean()) / Y.std()\n"
     ]
    },
    {
     "name": "stdout",
     "output_type": "stream",
     "text": [
      "                         ST  ST_conf\n",
      "A.0_ID flood wave shape NaN      NaN\n",
      "A.1_Bmax                NaN      NaN\n",
      "A.1_Brate               NaN      NaN\n",
      "A.1_pfail               NaN      NaN\n",
      "A.2_Bmax                NaN      NaN\n",
      "A.2_Brate               NaN      NaN\n",
      "A.2_pfail               NaN      NaN\n",
      "A.3_Bmax                NaN      NaN\n",
      "A.3_Brate               NaN      NaN\n",
      "A.3_pfail               NaN      NaN\n",
      "A.4_Bmax                NaN      NaN\n",
      "A.4_Brate               NaN      NaN\n",
      "A.4_pfail               NaN      NaN\n",
      "A.5_Bmax                NaN      NaN\n",
      "A.5_Brate               NaN      NaN\n",
      "A.5_pfail               NaN      NaN\n",
      "discount rate 0         NaN      NaN\n",
      "discount rate 1         NaN      NaN\n",
      "discount rate 2         NaN      NaN\n",
      "discount rate 3         NaN      NaN\n",
      "                         S1  S1_conf\n",
      "A.0_ID flood wave shape NaN      NaN\n",
      "A.1_Bmax                NaN      NaN\n",
      "A.1_Brate               NaN      NaN\n",
      "A.1_pfail               NaN      NaN\n",
      "A.2_Bmax                NaN      NaN\n",
      "A.2_Brate               NaN      NaN\n",
      "A.2_pfail               NaN      NaN\n",
      "A.3_Bmax                NaN      NaN\n",
      "A.3_Brate               NaN      NaN\n",
      "A.3_pfail               NaN      NaN\n",
      "A.4_Bmax                NaN      NaN\n",
      "A.4_Brate               NaN      NaN\n",
      "A.4_pfail               NaN      NaN\n",
      "A.5_Bmax                NaN      NaN\n",
      "A.5_Brate               NaN      NaN\n",
      "A.5_pfail               NaN      NaN\n",
      "discount rate 0         NaN      NaN\n",
      "discount rate 1         NaN      NaN\n",
      "discount rate 2         NaN      NaN\n",
      "discount rate 3         NaN      NaN\n",
      "                                      S2  S2_conf\n",
      "(A.0_ID flood wave shape, A.1_Bmax)  NaN      NaN\n",
      "(A.0_ID flood wave shape, A.1_Brate) NaN      NaN\n",
      "(A.0_ID flood wave shape, A.1_pfail) NaN      NaN\n",
      "(A.0_ID flood wave shape, A.2_Bmax)  NaN      NaN\n",
      "(A.0_ID flood wave shape, A.2_Brate) NaN      NaN\n",
      "...                                   ..      ...\n",
      "(discount rate 0, discount rate 2)   NaN      NaN\n",
      "(discount rate 0, discount rate 3)   NaN      NaN\n",
      "(discount rate 1, discount rate 2)   NaN      NaN\n",
      "(discount rate 1, discount rate 3)   NaN      NaN\n",
      "(discount rate 2, discount rate 3)   NaN      NaN\n",
      "\n",
      "[190 rows x 2 columns]\n",
      "An error occurred while creating the plot: \n",
      "                               ST   ST_conf\n",
      "A.0_ID flood wave shape  0.005350  0.001915\n",
      "A.1_Bmax                 0.013194  0.007648\n",
      "A.1_Brate                0.000095  0.000095\n",
      "A.1_pfail                0.702871  0.084399\n",
      "A.2_Bmax                 0.001051  0.001770\n",
      "A.2_Brate                0.000015  0.000012\n",
      "A.2_pfail                0.025297  0.005632\n",
      "A.3_Bmax                 0.000116  0.000121\n",
      "A.3_Brate                0.000015  0.000019\n",
      "A.3_pfail                0.234358  0.036549\n",
      "A.4_Bmax                 0.000011  0.000016\n",
      "A.4_Brate                0.000001  0.000002\n",
      "A.4_pfail                0.002096  0.001538\n",
      "A.5_Bmax                 0.000000  0.000000\n",
      "A.5_Brate                0.000000  0.000000\n",
      "A.5_pfail                0.023306  0.005861\n",
      "discount rate 0          0.008913  0.001560\n",
      "discount rate 1          0.008863  0.001731\n",
      "discount rate 2          0.008315  0.001510\n",
      "discount rate 3          0.008473  0.001579\n",
      "                               S1   S1_conf\n",
      "A.0_ID flood wave shape -0.002197  0.008481\n",
      "A.1_Bmax                -0.005489  0.015769\n",
      "A.1_Brate               -0.000501  0.001344\n",
      "A.1_pfail                0.649672  0.090997\n",
      "A.2_Bmax                 0.002605  0.004816\n",
      "A.2_Brate                0.000443  0.000518\n",
      "A.2_pfail                0.011401  0.020745\n",
      "A.3_Bmax                 0.000396  0.001001\n",
      "A.3_Brate               -0.000160  0.000260\n",
      "A.3_pfail                0.188625  0.066285\n",
      "A.4_Bmax                 0.000089  0.000151\n",
      "A.4_Brate                0.000025  0.000057\n",
      "A.4_pfail                0.002961  0.005232\n",
      "A.5_Bmax                 0.000000  0.000000\n",
      "A.5_Brate                0.000000  0.000000\n",
      "A.5_pfail                0.016054  0.022025\n",
      "discount rate 0          0.003721  0.013409\n",
      "discount rate 1          0.007502  0.011679\n",
      "discount rate 2          0.006633  0.012793\n",
      "discount rate 3          0.004169  0.013292\n",
      "                                            S2   S2_conf\n",
      "(A.0_ID flood wave shape, A.1_Bmax)   0.002801  0.013399\n",
      "(A.0_ID flood wave shape, A.1_Brate)  0.003232  0.013246\n",
      "(A.0_ID flood wave shape, A.1_pfail)  0.003909  0.013482\n",
      "(A.0_ID flood wave shape, A.2_Bmax)   0.003299  0.013256\n",
      "(A.0_ID flood wave shape, A.2_Brate)  0.003420  0.013243\n",
      "...                                        ...       ...\n",
      "(discount rate 0, discount rate 2)    0.011931  0.022997\n",
      "(discount rate 0, discount rate 3)    0.010255  0.022344\n",
      "(discount rate 1, discount rate 2)   -0.003389  0.019873\n",
      "(discount rate 1, discount rate 3)   -0.003436  0.019921\n",
      "(discount rate 2, discount rate 3)   -0.002312  0.017563\n",
      "\n",
      "[190 rows x 2 columns]\n"
     ]
    },
    {
     "name": "stderr",
     "output_type": "stream",
     "text": [
      "C:\\Users\\lvanv\\AppData\\Local\\Programs\\Python\\Python311\\Lib\\site-packages\\SALib\\analyze\\sobol.py:129: RuntimeWarning: invalid value encountered in divide\n",
      "  Y = (Y - Y.mean()) / Y.std()\n"
     ]
    },
    {
     "name": "stdout",
     "output_type": "stream",
     "text": [
      "                         ST  ST_conf\n",
      "A.0_ID flood wave shape NaN      NaN\n",
      "A.1_Bmax                NaN      NaN\n",
      "A.1_Brate               NaN      NaN\n",
      "A.1_pfail               NaN      NaN\n",
      "A.2_Bmax                NaN      NaN\n",
      "A.2_Brate               NaN      NaN\n",
      "A.2_pfail               NaN      NaN\n",
      "A.3_Bmax                NaN      NaN\n",
      "A.3_Brate               NaN      NaN\n",
      "A.3_pfail               NaN      NaN\n",
      "A.4_Bmax                NaN      NaN\n",
      "A.4_Brate               NaN      NaN\n",
      "A.4_pfail               NaN      NaN\n",
      "A.5_Bmax                NaN      NaN\n",
      "A.5_Brate               NaN      NaN\n",
      "A.5_pfail               NaN      NaN\n",
      "discount rate 0         NaN      NaN\n",
      "discount rate 1         NaN      NaN\n",
      "discount rate 2         NaN      NaN\n",
      "discount rate 3         NaN      NaN\n",
      "                         S1  S1_conf\n",
      "A.0_ID flood wave shape NaN      NaN\n",
      "A.1_Bmax                NaN      NaN\n",
      "A.1_Brate               NaN      NaN\n",
      "A.1_pfail               NaN      NaN\n",
      "A.2_Bmax                NaN      NaN\n",
      "A.2_Brate               NaN      NaN\n",
      "A.2_pfail               NaN      NaN\n",
      "A.3_Bmax                NaN      NaN\n",
      "A.3_Brate               NaN      NaN\n",
      "A.3_pfail               NaN      NaN\n",
      "A.4_Bmax                NaN      NaN\n",
      "A.4_Brate               NaN      NaN\n",
      "A.4_pfail               NaN      NaN\n",
      "A.5_Bmax                NaN      NaN\n",
      "A.5_Brate               NaN      NaN\n",
      "A.5_pfail               NaN      NaN\n",
      "discount rate 0         NaN      NaN\n",
      "discount rate 1         NaN      NaN\n",
      "discount rate 2         NaN      NaN\n",
      "discount rate 3         NaN      NaN\n",
      "                                      S2  S2_conf\n",
      "(A.0_ID flood wave shape, A.1_Bmax)  NaN      NaN\n",
      "(A.0_ID flood wave shape, A.1_Brate) NaN      NaN\n",
      "(A.0_ID flood wave shape, A.1_pfail) NaN      NaN\n",
      "(A.0_ID flood wave shape, A.2_Bmax)  NaN      NaN\n",
      "(A.0_ID flood wave shape, A.2_Brate) NaN      NaN\n",
      "...                                   ..      ...\n",
      "(discount rate 0, discount rate 2)   NaN      NaN\n",
      "(discount rate 0, discount rate 3)   NaN      NaN\n",
      "(discount rate 1, discount rate 2)   NaN      NaN\n",
      "(discount rate 1, discount rate 3)   NaN      NaN\n",
      "(discount rate 2, discount rate 3)   NaN      NaN\n",
      "\n",
      "[190 rows x 2 columns]\n",
      "An error occurred while creating the plot: \n"
     ]
    },
    {
     "name": "stderr",
     "output_type": "stream",
     "text": [
      "C:\\Users\\lvanv\\AppData\\Local\\Programs\\Python\\Python311\\Lib\\site-packages\\SALib\\analyze\\sobol.py:129: RuntimeWarning: invalid value encountered in divide\n",
      "  Y = (Y - Y.mean()) / Y.std()\n"
     ]
    },
    {
     "name": "stdout",
     "output_type": "stream",
     "text": [
      "                         ST  ST_conf\n",
      "A.0_ID flood wave shape NaN      NaN\n",
      "A.1_Bmax                NaN      NaN\n",
      "A.1_Brate               NaN      NaN\n",
      "A.1_pfail               NaN      NaN\n",
      "A.2_Bmax                NaN      NaN\n",
      "A.2_Brate               NaN      NaN\n",
      "A.2_pfail               NaN      NaN\n",
      "A.3_Bmax                NaN      NaN\n",
      "A.3_Brate               NaN      NaN\n",
      "A.3_pfail               NaN      NaN\n",
      "A.4_Bmax                NaN      NaN\n",
      "A.4_Brate               NaN      NaN\n",
      "A.4_pfail               NaN      NaN\n",
      "A.5_Bmax                NaN      NaN\n",
      "A.5_Brate               NaN      NaN\n",
      "A.5_pfail               NaN      NaN\n",
      "discount rate 0         NaN      NaN\n",
      "discount rate 1         NaN      NaN\n",
      "discount rate 2         NaN      NaN\n",
      "discount rate 3         NaN      NaN\n",
      "                         S1  S1_conf\n",
      "A.0_ID flood wave shape NaN      NaN\n",
      "A.1_Bmax                NaN      NaN\n",
      "A.1_Brate               NaN      NaN\n",
      "A.1_pfail               NaN      NaN\n",
      "A.2_Bmax                NaN      NaN\n",
      "A.2_Brate               NaN      NaN\n",
      "A.2_pfail               NaN      NaN\n",
      "A.3_Bmax                NaN      NaN\n",
      "A.3_Brate               NaN      NaN\n",
      "A.3_pfail               NaN      NaN\n",
      "A.4_Bmax                NaN      NaN\n",
      "A.4_Brate               NaN      NaN\n",
      "A.4_pfail               NaN      NaN\n",
      "A.5_Bmax                NaN      NaN\n",
      "A.5_Brate               NaN      NaN\n",
      "A.5_pfail               NaN      NaN\n",
      "discount rate 0         NaN      NaN\n",
      "discount rate 1         NaN      NaN\n",
      "discount rate 2         NaN      NaN\n",
      "discount rate 3         NaN      NaN\n",
      "                                      S2  S2_conf\n",
      "(A.0_ID flood wave shape, A.1_Bmax)  NaN      NaN\n",
      "(A.0_ID flood wave shape, A.1_Brate) NaN      NaN\n",
      "(A.0_ID flood wave shape, A.1_pfail) NaN      NaN\n",
      "(A.0_ID flood wave shape, A.2_Bmax)  NaN      NaN\n",
      "(A.0_ID flood wave shape, A.2_Brate) NaN      NaN\n",
      "...                                   ..      ...\n",
      "(discount rate 0, discount rate 2)   NaN      NaN\n",
      "(discount rate 0, discount rate 3)   NaN      NaN\n",
      "(discount rate 1, discount rate 2)   NaN      NaN\n",
      "(discount rate 1, discount rate 3)   NaN      NaN\n",
      "(discount rate 2, discount rate 3)   NaN      NaN\n",
      "\n",
      "[190 rows x 2 columns]\n",
      "An error occurred while creating the plot: \n"
     ]
    },
    {
     "ename": "RuntimeError",
     "evalue": "\n        Incorrect number of samples in model output file.\n        Confirm that calc_second_order matches option used during sampling.",
     "output_type": "error",
     "traceback": [
      "\u001B[1;31m---------------------------------------------------------------------------\u001B[0m",
      "\u001B[1;31mRuntimeError\u001B[0m                              Traceback (most recent call last)",
      "Cell \u001B[1;32mIn[60], line 1\u001B[0m\n\u001B[1;32m----> 1\u001B[0m \u001B[43mrun_sensitivity_analysis\u001B[49m\u001B[43m(\u001B[49m\u001B[38;5;124;43m\"\u001B[39;49m\u001B[38;5;124;43mresults/run_sobol_base.tar.gz\u001B[39;49m\u001B[38;5;124;43m\"\u001B[39;49m\u001B[43m,\u001B[49m\u001B[43m \u001B[49m\u001B[38;5;124;43m\"\u001B[39;49m\u001B[38;5;124;43mresults/run_base.tar.gz\u001B[39;49m\u001B[38;5;124;43m\"\u001B[39;49m\u001B[43m,\u001B[49m\u001B[43m \u001B[49m\u001B[38;5;124;43m'\u001B[39;49m\u001B[38;5;124;43mBase_run_0_policies\u001B[39;49m\u001B[38;5;124;43m'\u001B[39;49m\u001B[43m)\u001B[49m\n\u001B[0;32m      2\u001B[0m run_sensitivity_analysis(\u001B[38;5;124m\"\u001B[39m\u001B[38;5;124mresults/run_sobol_policies.tar.gz\u001B[39m\u001B[38;5;124m\"\u001B[39m, \u001B[38;5;124m\"\u001B[39m\u001B[38;5;124mresults/run_policies.tar.gz\u001B[39m\u001B[38;5;124m\"\u001B[39m, \u001B[38;5;124m'\u001B[39m\u001B[38;5;124mBase_run_10_policies\u001B[39m\u001B[38;5;124m'\u001B[39m)\n",
      "Cell \u001B[1;32mIn[59], line 32\u001B[0m, in \u001B[0;36mrun_sensitivity_analysis\u001B[1;34m(sobol, regular, name)\u001B[0m\n\u001B[0;32m     29\u001B[0m run_sobol (df_outcomes_sobol, \u001B[38;5;124m'\u001B[39m\u001B[38;5;124mExpected_evacuation_costs\u001B[39m\u001B[38;5;124m'\u001B[39m, problem, name)\n\u001B[0;32m     30\u001B[0m run_sobol (df_outcomes_sobol, \u001B[38;5;124m'\u001B[39m\u001B[38;5;124mRfR_Total_Costs\u001B[39m\u001B[38;5;124m'\u001B[39m, problem, name)\n\u001B[1;32m---> 32\u001B[0m \u001B[43mcheck_convergence\u001B[49m\u001B[43m \u001B[49m\u001B[43m(\u001B[49m\u001B[43mdf_outcomes\u001B[49m\u001B[43m,\u001B[49m\u001B[43m \u001B[49m\u001B[38;5;124;43m'\u001B[39;49m\u001B[38;5;124;43mTotal_Expected_Number_of_Deaths\u001B[39;49m\u001B[38;5;124;43m'\u001B[39;49m\u001B[43m,\u001B[49m\u001B[43m \u001B[49m\u001B[43mproblem\u001B[49m\u001B[43m,\u001B[49m\u001B[43m \u001B[49m\u001B[43mname\u001B[49m\u001B[43m,\u001B[49m\u001B[43m \u001B[49m\u001B[38;5;124;43m'\u001B[39;49m\u001B[38;5;124;43msobol\u001B[39;49m\u001B[38;5;124;43m'\u001B[39;49m\u001B[43m)\u001B[49m\n\u001B[0;32m     33\u001B[0m check_convergence (df_outcomes, \u001B[38;5;124m'\u001B[39m\u001B[38;5;124mTotal_Dike_Investment_Costs\u001B[39m\u001B[38;5;124m'\u001B[39m, problem, name, \u001B[38;5;124m'\u001B[39m\u001B[38;5;124msobol\u001B[39m\u001B[38;5;124m'\u001B[39m)\n\u001B[0;32m     34\u001B[0m check_convergence (df_outcomes, \u001B[38;5;124m'\u001B[39m\u001B[38;5;124mTotal_Expected_Annual_Damage\u001B[39m\u001B[38;5;124m'\u001B[39m, problem, name, \u001B[38;5;124m'\u001B[39m\u001B[38;5;124msobol\u001B[39m\u001B[38;5;124m'\u001B[39m)\n",
      "Cell \u001B[1;32mIn[57], line 6\u001B[0m, in \u001B[0;36mcheck_convergence\u001B[1;34m(df_outcomes, kpi, problem, name, sort)\u001B[0m\n\u001B[0;32m      3\u001B[0m s_data \u001B[38;5;241m=\u001B[39m pd\u001B[38;5;241m.\u001B[39mDataFrame(index\u001B[38;5;241m=\u001B[39mproblem[\u001B[38;5;124m'\u001B[39m\u001B[38;5;124mnames\u001B[39m\u001B[38;5;124m'\u001B[39m],\n\u001B[0;32m      4\u001B[0m                       columns\u001B[38;5;241m=\u001B[39mnp\u001B[38;5;241m.\u001B[39marange(\u001B[38;5;241m20\u001B[39m,\u001B[38;5;241m100\u001B[39m,\u001B[38;5;241m50\u001B[39m)\u001B[38;5;241m*\u001B[39m(\u001B[38;5;241m2\u001B[39m\u001B[38;5;241m*\u001B[39mproblem[\u001B[38;5;124m'\u001B[39m\u001B[38;5;124mnum_vars\u001B[39m\u001B[38;5;124m'\u001B[39m]\u001B[38;5;241m+\u001B[39m\u001B[38;5;241m2\u001B[39m))\n\u001B[0;32m      5\u001B[0m \u001B[38;5;28;01mfor\u001B[39;00m j \u001B[38;5;129;01min\u001B[39;00m s_data\u001B[38;5;241m.\u001B[39mcolumns:\n\u001B[1;32m----> 6\u001B[0m     scores \u001B[38;5;241m=\u001B[39m \u001B[43msobol\u001B[49m\u001B[38;5;241;43m.\u001B[39;49m\u001B[43manalyze\u001B[49m\u001B[43m(\u001B[49m\u001B[43mproblem\u001B[49m\u001B[43m,\u001B[49m\u001B[43m \u001B[49m\u001B[43mY\u001B[49m\u001B[43m[\u001B[49m\u001B[38;5;241;43m0\u001B[39;49m\u001B[43m:\u001B[49m\u001B[43mj\u001B[49m\u001B[43m]\u001B[49m\u001B[43m,\u001B[49m\u001B[43m \u001B[49m\u001B[43mcalc_second_order\u001B[49m\u001B[38;5;241;43m=\u001B[39;49m\u001B[38;5;28;43;01mTrue\u001B[39;49;00m\u001B[43m,\u001B[49m\u001B[43m \u001B[49m\u001B[43mprint_to_console\u001B[49m\u001B[38;5;241;43m=\u001B[39;49m\u001B[38;5;28;43;01mFalse\u001B[39;49;00m\u001B[43m)\u001B[49m\n\u001B[0;32m      7\u001B[0m     s_data\u001B[38;5;241m.\u001B[39mloc[:,j] \u001B[38;5;241m=\u001B[39m scores[\u001B[38;5;124m'\u001B[39m\u001B[38;5;124mST\u001B[39m\u001B[38;5;124m'\u001B[39m]\n\u001B[0;32m      8\u001B[0m fig, ax \u001B[38;5;241m=\u001B[39m plt\u001B[38;5;241m.\u001B[39msubplots(\u001B[38;5;241m1\u001B[39m)\n",
      "File \u001B[1;32m~\\AppData\\Local\\Programs\\Python\\Python311\\Lib\\site-packages\\SALib\\analyze\\sobol.py:119\u001B[0m, in \u001B[0;36manalyze\u001B[1;34m(problem, Y, calc_second_order, num_resamples, conf_level, print_to_console, parallel, n_processors, keep_resamples, seed)\u001B[0m\n\u001B[0;32m    117\u001B[0m     N \u001B[38;5;241m=\u001B[39m \u001B[38;5;28mint\u001B[39m(Y\u001B[38;5;241m.\u001B[39msize \u001B[38;5;241m/\u001B[39m (D \u001B[38;5;241m+\u001B[39m \u001B[38;5;241m2\u001B[39m))\n\u001B[0;32m    118\u001B[0m \u001B[38;5;28;01melse\u001B[39;00m:\n\u001B[1;32m--> 119\u001B[0m     \u001B[38;5;28;01mraise\u001B[39;00m \u001B[38;5;167;01mRuntimeError\u001B[39;00m(\n\u001B[0;32m    120\u001B[0m \u001B[38;5;250m        \u001B[39m\u001B[38;5;124;03m\"\"\"\u001B[39;00m\n\u001B[0;32m    121\u001B[0m \u001B[38;5;124;03m    Incorrect number of samples in model output file.\u001B[39;00m\n\u001B[0;32m    122\u001B[0m \u001B[38;5;124;03m    Confirm that calc_second_order matches option used during sampling.\"\"\"\u001B[39;00m\n\u001B[0;32m    123\u001B[0m     )\n\u001B[0;32m    125\u001B[0m \u001B[38;5;28;01mif\u001B[39;00m \u001B[38;5;129;01mnot\u001B[39;00m \u001B[38;5;241m0\u001B[39m \u001B[38;5;241m<\u001B[39m conf_level \u001B[38;5;241m<\u001B[39m \u001B[38;5;241m1\u001B[39m:\n\u001B[0;32m    126\u001B[0m     \u001B[38;5;28;01mraise\u001B[39;00m \u001B[38;5;167;01mRuntimeError\u001B[39;00m(\u001B[38;5;124m\"\u001B[39m\u001B[38;5;124mConfidence level must be between 0-1.\u001B[39m\u001B[38;5;124m\"\u001B[39m)\n",
      "\u001B[1;31mRuntimeError\u001B[0m: \n        Incorrect number of samples in model output file.\n        Confirm that calc_second_order matches option used during sampling."
     ]
    },
    {
     "data": {
      "text/plain": "<Figure size 640x480 with 1 Axes>",
      "image/png": "[encoded data removed]"
     },
     "metadata": {},
     "output_type": "display_data"
    },
    {
     "data": {
      "text/plain": "<Figure size 640x480 with 1 Axes>",
      "image/png": "[encoded data removed]"
     },
     "metadata": {},
     "output_type": "display_data"
    },
    {
     "data": {
      "text/plain": "<Figure size 640x480 with 1 Axes>",
      "image/png": "[encoded data removed]"
     },
     "metadata": {},
     "output_type": "display_data"
    }
   ],
   "source": [
    "run_sensitivity_analysis(\"results/run_sobol_base.tar.gz\", \"results/run_base.tar.gz\", 'Base_run_0_policies')\n",
    "run_sensitivity_analysis(\"results/run_sobol_policies.tar.gz\", \"results/run_policies.tar.gz\", 'Base_run_10_policies')"
   ],
   "metadata": {
    "collapsed": false,
    "ExecuteTime": {
     "end_time": "2023-06-12T10:38:14.769957Z",
     "start_time": "2023-06-12T10:38:10.177167600Z"
    }
   }
  },
  {
   "cell_type": "code",
   "execution_count": null,
   "outputs": [],
   "source": [],
   "metadata": {
    "collapsed": false
   }
  }
 ],
 "metadata": {
  "kernelspec": {
   "display_name": "Python 3",
   "language": "python",
   "name": "python3"
  },
  "language_info": {
   "codemirror_mode": {
    "name": "ipython",
    "version": 2
   },
   "file_extension": ".py",
   "mimetype": "text/x-python",
   "name": "python",
   "nbconvert_exporter": "python",
   "pygments_lexer": "ipython2",
   "version": "2.7.6"
  }
 },
 "nbformat": 4,
 "nbformat_minor": 0
}
