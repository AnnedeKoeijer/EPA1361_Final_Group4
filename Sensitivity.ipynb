{
 "cells": [
  {
   "cell_type": "code",
   "execution_count": 1,
   "outputs": [],
   "source": [
    "from ema_workbench import load_results\n",
    "import pandas as pd\n",
    "import statsmodels.api as sm\n",
    "from ema_workbench.analysis import prim\n",
    "from ema_workbench import ema_logging\n",
    "import numpy as np\n",
    "desired_width = 320\n",
    "pd.set_option('display.width', desired_width)\n",
    "pd.set_option('display.max_columns',50)\n",
    "from problem_formulation import get_model_for_problem_formulation\n",
    "from ema_workbench.em_framework.salib_samplers import get_SALib_problem\n",
    "from dike_model_simulation import problem_formulation\n",
    "from SALib.analyze import sobol\n",
    "import seaborn as sns\n",
    "import matplotlib.pyplot as plt\n",
    "import os\n",
    "from ema_workbench.analysis import feature_scoring\n",
    "from matplotlib.transforms import Bbox\n",
    "\n",
    "\n",
    "dike_model, planning_steps = get_model_for_problem_formulation(problem_formulation)\n"
   ],
   "metadata": {
    "collapsed": false,
    "ExecuteTime": {
     "end_time": "2023-06-13T12:10:30.277520800Z",
     "start_time": "2023-06-13T12:10:28.047143900Z"
    }
   }
  },
  {
   "cell_type": "code",
   "execution_count": 2,
   "outputs": [],
   "source": [
    "def setup_dataframe_outcomes (outcomes):\n",
    "    outcome = {f'{key} {i + 1}': value[:, i] for key, value in outcomes.items() for i in range(value.shape[1])}\n",
    "    df_outcomes = pd.DataFrame(outcome)\n",
    "    for i in range(1,6):\n",
    "        df_outcomes[f'A.{i}_Expected_Annual_Damage'] = (df_outcomes[[col for col in df_outcomes.columns if col.startswith(f'A.{i}_Expected Annual Damage')]].sum(axis=1))*(200/len(planning_steps))\n",
    "        df_outcomes = df_outcomes.drop(df_outcomes.columns[df_outcomes.columns.str.startswith(f'A.{i}_Expected Annual Damage')], axis=1)\n",
    "\n",
    "        df_outcomes[f'A.{i}_Dike_Investment_Costs'] = df_outcomes[[col for col in df_outcomes.columns if col.startswith(f'A.{i}_Dike Investment Costs')]].sum(axis=1)\n",
    "        df_outcomes = df_outcomes.drop(df_outcomes.columns[df_outcomes.columns.str.startswith(f'A.{i}_Dike Investment Costs')], axis=1)\n",
    "\n",
    "        df_outcomes[f'A.{i}_Expected_Number_of_Deaths'] = df_outcomes[[col for col in df_outcomes.columns if col.startswith(f'A.{i}_Expected Number of Deaths')]].sum(axis=1)*(200/len(planning_steps))\n",
    "        df_outcomes = df_outcomes.drop(df_outcomes.columns[df_outcomes.columns.str.startswith(f'A.{i}_Expected Number of Deaths')], axis=1)\n",
    "\n",
    "    df_outcomes['RfR_Total_Costs'] = df_outcomes[[col for col in df_outcomes.columns if col.startswith('RfR Total Costs')]].sum(axis=1)\n",
    "    df_outcomes = df_outcomes.drop(df_outcomes.columns[df_outcomes.columns.str.startswith('RfR Total Costs')], axis=1)\n",
    "\n",
    "    df_outcomes['Expected_evacuation_costs'] = df_outcomes[[col for col in df_outcomes.columns if col.startswith('Expected Evacuation Costs')]].sum(axis=1)\n",
    "    df_outcomes = df_outcomes.drop(df_outcomes.columns[df_outcomes.columns.str.startswith('Expected Evacuation Costs')], axis=1)\n",
    "\n",
    "    df_outcomes['Total_Expected_Number_of_Deaths'] = df_outcomes[[col for col in df_outcomes.columns if col.endswith('Expected_Number_of_Deaths')]].sum(axis=1)\n",
    "    df_outcomes['Total_Dike_Investment_Costs'] = df_outcomes[[col for col in df_outcomes.columns if col.endswith('Dike_Investment_Costs')]].sum(axis=1)\n",
    "    df_outcomes['Total_Expected_Annual_Damage'] = df_outcomes[[col for col in df_outcomes.columns if col.endswith('Expected_Annual_Damage')]].sum(axis=1)\n",
    "    return df_outcomes"
   ],
   "metadata": {
    "collapsed": false,
    "ExecuteTime": {
     "end_time": "2023-06-13T12:10:30.294864100Z",
     "start_time": "2023-06-13T12:10:30.286405700Z"
    }
   }
  },
  {
   "cell_type": "code",
   "execution_count": 3,
   "outputs": [],
   "source": [
    "def run_regression (kpi, df_outcomes, df_experiments, name):\n",
    "    final_lhs = df_outcomes[kpi]\n",
    "    X_0 = sm.add_constant(df_experiments)\n",
    "    est = sm.OLS(final_lhs, X_0.astype(float)).fit()\n",
    "    parameters_df = pd.DataFrame(est.params, columns=['Parameter'])\n",
    "    parameters_df.index.name = 'Variable'\n",
    "    # Save parameters to CSV\n",
    "    parameters_df.to_csv(f'./results/{name}/parameters_{kpi}.csv')\n",
    "    # Save summary to CSV\n",
    "    with open(f'./results/{name}/summary_{kpi}.txt', 'w') as f:\n",
    "        f.write(est.summary().as_text())"
   ],
   "metadata": {
    "collapsed": false,
    "ExecuteTime": {
     "end_time": "2023-06-13T12:10:30.304332Z",
     "start_time": "2023-06-13T12:10:30.294864100Z"
    }
   }
  },
  {
   "cell_type": "markdown",
   "source": [
    "#### 2. Sobol"
   ],
   "metadata": {
    "collapsed": false
   }
  },
  {
   "cell_type": "code",
   "execution_count": 4,
   "outputs": [],
   "source": [
    "def run_sobol(df_outcomes_sobol, kpi, problem, name):\n",
    "    final_sobol = df_outcomes_sobol[kpi].to_numpy()\n",
    "    Si = sobol.analyze(problem, final_sobol, calc_second_order=True, print_to_console=True)\n",
    "    Si_filter = {k: Si[k] for k in ['ST', 'ST_conf', 'S1', 'S1_conf']}\n",
    "    Si_df = pd.DataFrame(Si_filter, index=problem['names'])\n",
    "\n",
    "    try:\n",
    "        sns.set_style('white')\n",
    "        fig, ax = plt.subplots(1)\n",
    "\n",
    "        indices = Si_df[['S1', 'ST']]\n",
    "        err = Si_df[['S1_conf', 'ST_conf']]\n",
    "\n",
    "        indices.plot.bar(yerr=err.values.T, ax=ax)\n",
    "        fig.set_size_inches(8, 6)\n",
    "        fig.subplots_adjust(bottom=0.3)\n",
    "\n",
    "        # Create the directory if it doesn't exist\n",
    "        os.makedirs(f'./results/{name}', exist_ok=True)\n",
    "\n",
    "        plt.savefig(f'./results/{name}/sobol_plot_{kpi}.png')\n",
    "\n",
    "        plt.close(fig)  # Close the figure to free up resources\n",
    "    except Exception as e:\n",
    "        print(f\"An error occurred while creating the plot: {str(e)}\")\n",
    "        # Perform any desired actions when the plot cannot be created\n",
    "        # For example, return an empty plot, log the error, or continue with other code\n"
   ],
   "metadata": {
    "collapsed": false,
    "ExecuteTime": {
     "end_time": "2023-06-13T12:10:30.311488900Z",
     "start_time": "2023-06-13T12:10:30.304332Z"
    }
   }
  },
  {
   "cell_type": "code",
   "execution_count": 5,
   "outputs": [],
   "source": [
    "def check_convergence (df_outcomes, kpi, problem, name, sort):\n",
    "    Y = df_outcomes[kpi].to_numpy()\n",
    "    s_data = pd.DataFrame(index=problem['names'],\n",
    "                          columns=np.arange(20,100,50)*(2*problem['num_vars']+2))\n",
    "    for j in s_data.columns:\n",
    "        scores = sobol.analyze(problem, Y[0:j], calc_second_order=True, print_to_console=False)\n",
    "        s_data.loc[:,j] = scores['ST']\n",
    "    fig, ax = plt.subplots(1)\n",
    "\n",
    "    s_data.T.plot(ax=ax)\n",
    "    ax.set_xlabel('Samples')\n",
    "    ax.set_ylabel('Total index (ST)')\n",
    "    ax.legend(loc='center right', bbox_to_anchor=(1.45, 0.5))\n",
    "    bbox = Bbox.from_bounds(0, 0, 8, 4.7)\n",
    "    plt.savefig(f'./results/{name}/scenario_check_convergence_{kpi}_{sort}.png',dpi=300, bbox_inches=bbox)"
   ],
   "metadata": {
    "collapsed": false,
    "ExecuteTime": {
     "end_time": "2023-06-13T12:10:30.342557Z",
     "start_time": "2023-06-13T12:10:30.311488900Z"
    }
   }
  },
  {
   "cell_type": "markdown",
   "source": [
    "#### 3. Extra trees"
   ],
   "metadata": {
    "collapsed": false
   }
  },
  {
   "cell_type": "code",
   "execution_count": 7,
   "outputs": [],
   "source": [
    "def extra_trees(df_outcomes, experiments, name):\n",
    "    df_outcomes_kpis = df_outcomes[['Total_Expected_Number_of_Deaths','Total_Dike_Investment_Costs','Total_Expected_Annual_Damage', 'Expected_evacuation_costs', 'RfR_Total_Costs' ]].copy()\n",
    "    plt.figure(figsize=(15, 10))\n",
    "\n",
    "    fs = feature_scoring.get_feature_scores_all(experiments,df_outcomes_kpis)\n",
    "    sns.heatmap(fs, cmap=\"viridis\", annot=True)\n",
    "    plt.savefig(f'./results/{name}/Tree_analysis_incl_policies.png', bbox_inches='tight')\n",
    "\n",
    "    experiments_uncertainties = experiments[['A.0_ID flood wave shape', 'A.1_Bmax', 'A.1_Brate', 'A.1_pfail', 'A.2_Bmax', 'A.2_Brate', 'A.2_pfail', 'A.3_Bmax', 'A.3_Brate', 'A.3_pfail', 'A.4_Bmax', 'A.4_Brate', 'A.4_pfail', 'A.5_Bmax', 'A.5_Brate', 'A.5_pfail', 'discount rate 0', 'discount rate 1', 'discount rate 2', 'discount rate 3']].copy()\n",
    "\n",
    "    fs = feature_scoring.get_feature_scores_all(experiments_uncertainties,df_outcomes_kpis)\n",
    "    plt.figure(figsize=(15, 10))\n",
    "    sns.heatmap(fs, cmap=\"viridis\", annot=True)\n",
    "    plt.savefig(f'./results/{name}/Tree_analysis_uncertainties.png', bbox_inches='tight')\n"
   ],
   "metadata": {
    "collapsed": false,
    "ExecuteTime": {
     "end_time": "2023-06-13T12:10:30.374062100Z",
     "start_time": "2023-06-13T12:10:30.343179600Z"
    }
   }
  },
  {
   "cell_type": "markdown",
   "source": [
    "#### 4. Running the full code"
   ],
   "metadata": {
    "collapsed": false
   }
  },
  {
   "cell_type": "code",
   "execution_count": 17,
   "outputs": [],
   "source": [
    "def run_sensitivity_analysis(sobol, regular, name):\n",
    "    if not os.path.exists(f'./results/{name}'):\n",
    "         os.mkdir(f'./results/{name}')\n",
    "    else:\n",
    "         for filename in os.listdir(f'./results/{name}'):\n",
    "             file_path = os.path.join(f'./results/{name}', filename)\n",
    "             print(file_path)\n",
    "             if os.path.isfile(file_path):\n",
    "                 os.remove(file_path)\n",
    "        # shutil.rmtree(f'./results/{name}')\n",
    "        # os.mkdir(f'./results/{name}')\n",
    "    experiments, outcomes = load_results(regular)\n",
    "    experiments_sobol, outcomes_sobol = load_results(sobol)\n",
    "    df_outcomes = setup_dataframe_outcomes(outcomes)\n",
    "    df_outcomes_sobol = setup_dataframe_outcomes(outcomes_sobol)\n",
    "\n",
    "    df_experiments = experiments.drop(['policy', 'model', 'scenario'], axis = 1)\n",
    "    df_experiments_sobol = experiments_sobol.drop(['policy', 'model', 'scenario'], axis = 1)\n",
    "    #run_regression ('Total_Expected_Number_of_Deaths', df_outcomes, df_experiments, name)\n",
    "    #run_regression ('Total_Dike_Investment_Costs', df_outcomes, df_experiments, name)\n",
    "    #run_regression ('Total_Expected_Annual_Damage', df_outcomes, df_experiments, name)\n",
    "    #run_regression ('Expected_evacuation_costs', df_outcomes, df_experiments, name)\n",
    "    #run_regression ('RfR_Total_Costs', df_outcomes, df_experiments, name)\n",
    "\n",
    "    problem = get_SALib_problem(dike_model.uncertainties)\n",
    "\n",
    "    run_sobol (df_outcomes_sobol, 'Total_Expected_Number_of_Deaths', problem, name)\n",
    "    run_sobol (df_outcomes_sobol, 'Total_Dike_Investment_Costs', problem, name)\n",
    "    run_sobol (df_outcomes_sobol, 'Total_Expected_Annual_Damage', problem, name)\n",
    "    run_sobol (df_outcomes_sobol, 'Expected_evacuation_costs', problem, name)\n",
    "    run_sobol (df_outcomes_sobol, 'RfR_Total_Costs', problem, name)\n",
    "\n",
    "    check_convergence (df_outcomes_sobol, 'Total_Expected_Number_of_Deaths', problem, name, 'sobol')\n",
    "    check_convergence (df_outcomes_sobol, 'Total_Dike_Investment_Costs', problem, name, 'sobol')\n",
    "    check_convergence (df_outcomes_sobol, 'Total_Expected_Annual_Damage', problem, name, 'sobol')\n",
    "    check_convergence (df_outcomes_sobol, 'Expected_evacuation_costs', problem, name, 'sobol')\n",
    "    check_convergence (df_outcomes_sobol, 'RfR_Total_Costs', problem, name, 'sobol')\n",
    "\n",
    "    # check_convergence (df_outcomes, 'Total_Expected_Number_of_Deaths', problem, name, 'regular')\n",
    "    # check_convergence (df_outcomes, 'Total_Dike_Investment_Costs', problem, name, 'regular')\n",
    "    # check_convergence (df_outcomes, 'Total_Expected_Annual_Damage', problem, name, 'regular')\n",
    "    # check_convergence (df_outcomes, 'Expected_evacuation_costs', problem, name, 'regular')\n",
    "    # check_convergence (df_outcomes, 'RfR_Total_Costs', problem, name, 'regular')\n",
    "\n",
    "    extra_trees(df_outcomes, experiments, name)"
   ],
   "metadata": {
    "collapsed": false,
    "ExecuteTime": {
     "end_time": "2023-06-13T12:15:20.606682200Z",
     "start_time": "2023-06-13T12:15:20.595383100Z"
    }
   }
  },
  {
   "cell_type": "code",
   "execution_count": 18,
   "outputs": [
    {
     "name": "stdout",
     "output_type": "stream",
     "text": [
      "./results/Base_run_0_policies\\parameters_Expected_evacuation_costs.csv\n",
      "Error deleting file: ./results/Base_run_0_policies\\parameters_Expected_evacuation_costs.csv\n",
      "[WinError 5] Access is denied: './results/Base_run_0_policies\\\\parameters_Expected_evacuation_costs.csv'\n",
      "./results/Base_run_0_policies\\parameters_RfR_Total_Costs.csv\n",
      "Error deleting file: ./results/Base_run_0_policies\\parameters_RfR_Total_Costs.csv\n",
      "[WinError 5] Access is denied: './results/Base_run_0_policies\\\\parameters_RfR_Total_Costs.csv'\n",
      "./results/Base_run_0_policies\\parameters_Total_Dike_Investment_Costs.csv\n",
      "Error deleting file: ./results/Base_run_0_policies\\parameters_Total_Dike_Investment_Costs.csv\n",
      "[WinError 5] Access is denied: './results/Base_run_0_policies\\\\parameters_Total_Dike_Investment_Costs.csv'\n",
      "./results/Base_run_0_policies\\parameters_Total_Expected_Annual_Damage.csv\n",
      "Error deleting file: ./results/Base_run_0_policies\\parameters_Total_Expected_Annual_Damage.csv\n",
      "[WinError 5] Access is denied: './results/Base_run_0_policies\\\\parameters_Total_Expected_Annual_Damage.csv'\n",
      "./results/Base_run_0_policies\\parameters_Total_Expected_Number_of_Deaths.csv\n",
      "Error deleting file: ./results/Base_run_0_policies\\parameters_Total_Expected_Number_of_Deaths.csv\n",
      "[WinError 5] Access is denied: './results/Base_run_0_policies\\\\parameters_Total_Expected_Number_of_Deaths.csv'\n",
      "./results/Base_run_0_policies\\scenario_check_convergence_Expected_evacuation_costs_sobol.png\n",
      "Error deleting file: ./results/Base_run_0_policies\\scenario_check_convergence_Expected_evacuation_costs_sobol.png\n",
      "[WinError 5] Access is denied: './results/Base_run_0_policies\\\\scenario_check_convergence_Expected_evacuation_costs_sobol.png'\n",
      "./results/Base_run_0_policies\\scenario_check_convergence_extratrees_Total_Expected_Annual_Damage.png\n",
      "Error deleting file: ./results/Base_run_0_policies\\scenario_check_convergence_extratrees_Total_Expected_Annual_Damage.png\n",
      "[WinError 5] Access is denied: './results/Base_run_0_policies\\\\scenario_check_convergence_extratrees_Total_Expected_Annual_Damage.png'\n",
      "./results/Base_run_0_policies\\scenario_check_convergence_extratrees_Total_Expected_Number_of_Deaths.png\n",
      "Error deleting file: ./results/Base_run_0_policies\\scenario_check_convergence_extratrees_Total_Expected_Number_of_Deaths.png\n",
      "[WinError 5] Access is denied: './results/Base_run_0_policies\\\\scenario_check_convergence_extratrees_Total_Expected_Number_of_Deaths.png'\n",
      "./results/Base_run_0_policies\\scenario_check_convergence_RfR_Total_Costs_sobol.png\n",
      "Error deleting file: ./results/Base_run_0_policies\\scenario_check_convergence_RfR_Total_Costs_sobol.png\n",
      "[WinError 5] Access is denied: './results/Base_run_0_policies\\\\scenario_check_convergence_RfR_Total_Costs_sobol.png'\n",
      "./results/Base_run_0_policies\\scenario_check_convergence_Total_Dike_Investment_Costs_sobol.png\n",
      "Error deleting file: ./results/Base_run_0_policies\\scenario_check_convergence_Total_Dike_Investment_Costs_sobol.png\n",
      "[WinError 5] Access is denied: './results/Base_run_0_policies\\\\scenario_check_convergence_Total_Dike_Investment_Costs_sobol.png'\n",
      "./results/Base_run_0_policies\\scenario_check_convergence_Total_Expected_Annual_Damage_sobol.png\n",
      "Error deleting file: ./results/Base_run_0_policies\\scenario_check_convergence_Total_Expected_Annual_Damage_sobol.png\n",
      "[WinError 5] Access is denied: './results/Base_run_0_policies\\\\scenario_check_convergence_Total_Expected_Annual_Damage_sobol.png'\n",
      "./results/Base_run_0_policies\\scenario_check_convergence_Total_Expected_Number_of_Deaths_sobol.png\n",
      "Error deleting file: ./results/Base_run_0_policies\\scenario_check_convergence_Total_Expected_Number_of_Deaths_sobol.png\n",
      "[WinError 5] Access is denied: './results/Base_run_0_policies\\\\scenario_check_convergence_Total_Expected_Number_of_Deaths_sobol.png'\n",
      "./results/Base_run_0_policies\\sobol_plot_Total_Expected_Annual_Damage.png\n",
      "Error deleting file: ./results/Base_run_0_policies\\sobol_plot_Total_Expected_Annual_Damage.png\n",
      "[WinError 5] Access is denied: './results/Base_run_0_policies\\\\sobol_plot_Total_Expected_Annual_Damage.png'\n",
      "./results/Base_run_0_policies\\sobol_plot_Total_Expected_Number_of_Deaths.png\n",
      "Error deleting file: ./results/Base_run_0_policies\\sobol_plot_Total_Expected_Number_of_Deaths.png\n",
      "[WinError 5] Access is denied: './results/Base_run_0_policies\\\\sobol_plot_Total_Expected_Number_of_Deaths.png'\n",
      "./results/Base_run_0_policies\\summary_Expected_evacuation_costs.txt\n",
      "Error deleting file: ./results/Base_run_0_policies\\summary_Expected_evacuation_costs.txt\n",
      "[WinError 5] Access is denied: './results/Base_run_0_policies\\\\summary_Expected_evacuation_costs.txt'\n",
      "./results/Base_run_0_policies\\summary_RfR_Total_Costs.txt\n",
      "Error deleting file: ./results/Base_run_0_policies\\summary_RfR_Total_Costs.txt\n",
      "[WinError 5] Access is denied: './results/Base_run_0_policies\\\\summary_RfR_Total_Costs.txt'\n",
      "./results/Base_run_0_policies\\summary_Total_Dike_Investment_Costs.txt\n",
      "Error deleting file: ./results/Base_run_0_policies\\summary_Total_Dike_Investment_Costs.txt\n",
      "[WinError 5] Access is denied: './results/Base_run_0_policies\\\\summary_Total_Dike_Investment_Costs.txt'\n",
      "./results/Base_run_0_policies\\summary_Total_Expected_Annual_Damage.txt\n",
      "Error deleting file: ./results/Base_run_0_policies\\summary_Total_Expected_Annual_Damage.txt\n",
      "[WinError 5] Access is denied: './results/Base_run_0_policies\\\\summary_Total_Expected_Annual_Damage.txt'\n",
      "./results/Base_run_0_policies\\summary_Total_Expected_Number_of_Deaths.txt\n",
      "Error deleting file: ./results/Base_run_0_policies\\summary_Total_Expected_Number_of_Deaths.txt\n",
      "[WinError 5] Access is denied: './results/Base_run_0_policies\\\\summary_Total_Expected_Number_of_Deaths.txt'\n",
      "./results/Base_run_0_policies\\Tree_analysis_incl_policies.png\n",
      "Error deleting file: ./results/Base_run_0_policies\\Tree_analysis_incl_policies.png\n",
      "[WinError 5] Access is denied: './results/Base_run_0_policies\\\\Tree_analysis_incl_policies.png'\n",
      "./results/Base_run_0_policies\\Tree_analysis_uncertainties.png\n",
      "Error deleting file: ./results/Base_run_0_policies\\Tree_analysis_uncertainties.png\n",
      "[WinError 5] Access is denied: './results/Base_run_0_policies\\\\Tree_analysis_uncertainties.png'\n"
     ]
    },
    {
     "ename": "PermissionError",
     "evalue": "[Errno 13] Permission denied: './results/Base_run_0_policies/parameters_Total_Expected_Number_of_Deaths.csv'",
     "output_type": "error",
     "traceback": [
      "\u001B[1;31m---------------------------------------------------------------------------\u001B[0m",
      "\u001B[1;31mPermissionError\u001B[0m                           Traceback (most recent call last)",
      "Cell \u001B[1;32mIn[18], line 1\u001B[0m\n\u001B[1;32m----> 1\u001B[0m \u001B[43mrun_sensitivity_analysis\u001B[49m\u001B[43m(\u001B[49m\u001B[38;5;124;43m\"\u001B[39;49m\u001B[38;5;124;43mresults/run_sobol_base.tar.gz\u001B[39;49m\u001B[38;5;124;43m\"\u001B[39;49m\u001B[43m,\u001B[49m\u001B[43m \u001B[49m\u001B[38;5;124;43m\"\u001B[39;49m\u001B[38;5;124;43mresults/run_base.tar.gz\u001B[39;49m\u001B[38;5;124;43m\"\u001B[39;49m\u001B[43m,\u001B[49m\u001B[43m \u001B[49m\u001B[38;5;124;43m'\u001B[39;49m\u001B[38;5;124;43mBase_run_0_policies\u001B[39;49m\u001B[38;5;124;43m'\u001B[39;49m\u001B[43m)\u001B[49m\n\u001B[0;32m      2\u001B[0m run_sensitivity_analysis(\u001B[38;5;124m\"\u001B[39m\u001B[38;5;124mresults/run_sobol_policies.tar.gz\u001B[39m\u001B[38;5;124m\"\u001B[39m, \u001B[38;5;124m\"\u001B[39m\u001B[38;5;124mresults/run_policies.tar.gz\u001B[39m\u001B[38;5;124m\"\u001B[39m, \u001B[38;5;124m'\u001B[39m\u001B[38;5;124mBase_run_10_policies\u001B[39m\u001B[38;5;124m'\u001B[39m)\n",
      "Cell \u001B[1;32mIn[17], line 25\u001B[0m, in \u001B[0;36mrun_sensitivity_analysis\u001B[1;34m(sobol, regular, name)\u001B[0m\n\u001B[0;32m     23\u001B[0m df_experiments \u001B[38;5;241m=\u001B[39m experiments\u001B[38;5;241m.\u001B[39mdrop([\u001B[38;5;124m'\u001B[39m\u001B[38;5;124mpolicy\u001B[39m\u001B[38;5;124m'\u001B[39m, \u001B[38;5;124m'\u001B[39m\u001B[38;5;124mmodel\u001B[39m\u001B[38;5;124m'\u001B[39m, \u001B[38;5;124m'\u001B[39m\u001B[38;5;124mscenario\u001B[39m\u001B[38;5;124m'\u001B[39m], axis \u001B[38;5;241m=\u001B[39m \u001B[38;5;241m1\u001B[39m)\n\u001B[0;32m     24\u001B[0m df_experiments_sobol \u001B[38;5;241m=\u001B[39m experiments_sobol\u001B[38;5;241m.\u001B[39mdrop([\u001B[38;5;124m'\u001B[39m\u001B[38;5;124mpolicy\u001B[39m\u001B[38;5;124m'\u001B[39m, \u001B[38;5;124m'\u001B[39m\u001B[38;5;124mmodel\u001B[39m\u001B[38;5;124m'\u001B[39m, \u001B[38;5;124m'\u001B[39m\u001B[38;5;124mscenario\u001B[39m\u001B[38;5;124m'\u001B[39m], axis \u001B[38;5;241m=\u001B[39m \u001B[38;5;241m1\u001B[39m)\n\u001B[1;32m---> 25\u001B[0m \u001B[43mrun_regression\u001B[49m\u001B[43m \u001B[49m\u001B[43m(\u001B[49m\u001B[38;5;124;43m'\u001B[39;49m\u001B[38;5;124;43mTotal_Expected_Number_of_Deaths\u001B[39;49m\u001B[38;5;124;43m'\u001B[39;49m\u001B[43m,\u001B[49m\u001B[43m \u001B[49m\u001B[43mdf_outcomes\u001B[49m\u001B[43m,\u001B[49m\u001B[43m \u001B[49m\u001B[43mdf_experiments\u001B[49m\u001B[43m,\u001B[49m\u001B[43m \u001B[49m\u001B[43mname\u001B[49m\u001B[43m)\u001B[49m\n\u001B[0;32m     26\u001B[0m run_regression (\u001B[38;5;124m'\u001B[39m\u001B[38;5;124mTotal_Dike_Investment_Costs\u001B[39m\u001B[38;5;124m'\u001B[39m, df_outcomes, df_experiments, name)\n\u001B[0;32m     27\u001B[0m run_regression (\u001B[38;5;124m'\u001B[39m\u001B[38;5;124mTotal_Expected_Annual_Damage\u001B[39m\u001B[38;5;124m'\u001B[39m, df_outcomes, df_experiments, name)\n",
      "Cell \u001B[1;32mIn[3], line 8\u001B[0m, in \u001B[0;36mrun_regression\u001B[1;34m(kpi, df_outcomes, df_experiments, name)\u001B[0m\n\u001B[0;32m      6\u001B[0m parameters_df\u001B[38;5;241m.\u001B[39mindex\u001B[38;5;241m.\u001B[39mname \u001B[38;5;241m=\u001B[39m \u001B[38;5;124m'\u001B[39m\u001B[38;5;124mVariable\u001B[39m\u001B[38;5;124m'\u001B[39m\n\u001B[0;32m      7\u001B[0m \u001B[38;5;66;03m# Save parameters to CSV\u001B[39;00m\n\u001B[1;32m----> 8\u001B[0m \u001B[43mparameters_df\u001B[49m\u001B[38;5;241;43m.\u001B[39;49m\u001B[43mto_csv\u001B[49m\u001B[43m(\u001B[49m\u001B[38;5;124;43mf\u001B[39;49m\u001B[38;5;124;43m'\u001B[39;49m\u001B[38;5;124;43m./results/\u001B[39;49m\u001B[38;5;132;43;01m{\u001B[39;49;00m\u001B[43mname\u001B[49m\u001B[38;5;132;43;01m}\u001B[39;49;00m\u001B[38;5;124;43m/parameters_\u001B[39;49m\u001B[38;5;132;43;01m{\u001B[39;49;00m\u001B[43mkpi\u001B[49m\u001B[38;5;132;43;01m}\u001B[39;49;00m\u001B[38;5;124;43m.csv\u001B[39;49m\u001B[38;5;124;43m'\u001B[39;49m\u001B[43m)\u001B[49m\n\u001B[0;32m      9\u001B[0m \u001B[38;5;66;03m# Save summary to CSV\u001B[39;00m\n\u001B[0;32m     10\u001B[0m \u001B[38;5;28;01mwith\u001B[39;00m \u001B[38;5;28mopen\u001B[39m(\u001B[38;5;124mf\u001B[39m\u001B[38;5;124m'\u001B[39m\u001B[38;5;124m./results/\u001B[39m\u001B[38;5;132;01m{\u001B[39;00mname\u001B[38;5;132;01m}\u001B[39;00m\u001B[38;5;124m/summary_\u001B[39m\u001B[38;5;132;01m{\u001B[39;00mkpi\u001B[38;5;132;01m}\u001B[39;00m\u001B[38;5;124m.txt\u001B[39m\u001B[38;5;124m'\u001B[39m, \u001B[38;5;124m'\u001B[39m\u001B[38;5;124mw\u001B[39m\u001B[38;5;124m'\u001B[39m) \u001B[38;5;28;01mas\u001B[39;00m f:\n",
      "File \u001B[1;32m~\\AppData\\Local\\Programs\\Python\\Python311\\Lib\\site-packages\\pandas\\core\\generic.py:3772\u001B[0m, in \u001B[0;36mNDFrame.to_csv\u001B[1;34m(self, path_or_buf, sep, na_rep, float_format, columns, header, index, index_label, mode, encoding, compression, quoting, quotechar, lineterminator, chunksize, date_format, doublequote, escapechar, decimal, errors, storage_options)\u001B[0m\n\u001B[0;32m   3761\u001B[0m df \u001B[38;5;241m=\u001B[39m \u001B[38;5;28mself\u001B[39m \u001B[38;5;28;01mif\u001B[39;00m \u001B[38;5;28misinstance\u001B[39m(\u001B[38;5;28mself\u001B[39m, ABCDataFrame) \u001B[38;5;28;01melse\u001B[39;00m \u001B[38;5;28mself\u001B[39m\u001B[38;5;241m.\u001B[39mto_frame()\n\u001B[0;32m   3763\u001B[0m formatter \u001B[38;5;241m=\u001B[39m DataFrameFormatter(\n\u001B[0;32m   3764\u001B[0m     frame\u001B[38;5;241m=\u001B[39mdf,\n\u001B[0;32m   3765\u001B[0m     header\u001B[38;5;241m=\u001B[39mheader,\n\u001B[1;32m   (...)\u001B[0m\n\u001B[0;32m   3769\u001B[0m     decimal\u001B[38;5;241m=\u001B[39mdecimal,\n\u001B[0;32m   3770\u001B[0m )\n\u001B[1;32m-> 3772\u001B[0m \u001B[38;5;28;01mreturn\u001B[39;00m \u001B[43mDataFrameRenderer\u001B[49m\u001B[43m(\u001B[49m\u001B[43mformatter\u001B[49m\u001B[43m)\u001B[49m\u001B[38;5;241;43m.\u001B[39;49m\u001B[43mto_csv\u001B[49m\u001B[43m(\u001B[49m\n\u001B[0;32m   3773\u001B[0m \u001B[43m    \u001B[49m\u001B[43mpath_or_buf\u001B[49m\u001B[43m,\u001B[49m\n\u001B[0;32m   3774\u001B[0m \u001B[43m    \u001B[49m\u001B[43mlineterminator\u001B[49m\u001B[38;5;241;43m=\u001B[39;49m\u001B[43mlineterminator\u001B[49m\u001B[43m,\u001B[49m\n\u001B[0;32m   3775\u001B[0m \u001B[43m    \u001B[49m\u001B[43msep\u001B[49m\u001B[38;5;241;43m=\u001B[39;49m\u001B[43msep\u001B[49m\u001B[43m,\u001B[49m\n\u001B[0;32m   3776\u001B[0m \u001B[43m    \u001B[49m\u001B[43mencoding\u001B[49m\u001B[38;5;241;43m=\u001B[39;49m\u001B[43mencoding\u001B[49m\u001B[43m,\u001B[49m\n\u001B[0;32m   3777\u001B[0m \u001B[43m    \u001B[49m\u001B[43merrors\u001B[49m\u001B[38;5;241;43m=\u001B[39;49m\u001B[43merrors\u001B[49m\u001B[43m,\u001B[49m\n\u001B[0;32m   3778\u001B[0m \u001B[43m    \u001B[49m\u001B[43mcompression\u001B[49m\u001B[38;5;241;43m=\u001B[39;49m\u001B[43mcompression\u001B[49m\u001B[43m,\u001B[49m\n\u001B[0;32m   3779\u001B[0m \u001B[43m    \u001B[49m\u001B[43mquoting\u001B[49m\u001B[38;5;241;43m=\u001B[39;49m\u001B[43mquoting\u001B[49m\u001B[43m,\u001B[49m\n\u001B[0;32m   3780\u001B[0m \u001B[43m    \u001B[49m\u001B[43mcolumns\u001B[49m\u001B[38;5;241;43m=\u001B[39;49m\u001B[43mcolumns\u001B[49m\u001B[43m,\u001B[49m\n\u001B[0;32m   3781\u001B[0m \u001B[43m    \u001B[49m\u001B[43mindex_label\u001B[49m\u001B[38;5;241;43m=\u001B[39;49m\u001B[43mindex_label\u001B[49m\u001B[43m,\u001B[49m\n\u001B[0;32m   3782\u001B[0m \u001B[43m    \u001B[49m\u001B[43mmode\u001B[49m\u001B[38;5;241;43m=\u001B[39;49m\u001B[43mmode\u001B[49m\u001B[43m,\u001B[49m\n\u001B[0;32m   3783\u001B[0m \u001B[43m    \u001B[49m\u001B[43mchunksize\u001B[49m\u001B[38;5;241;43m=\u001B[39;49m\u001B[43mchunksize\u001B[49m\u001B[43m,\u001B[49m\n\u001B[0;32m   3784\u001B[0m \u001B[43m    \u001B[49m\u001B[43mquotechar\u001B[49m\u001B[38;5;241;43m=\u001B[39;49m\u001B[43mquotechar\u001B[49m\u001B[43m,\u001B[49m\n\u001B[0;32m   3785\u001B[0m \u001B[43m    \u001B[49m\u001B[43mdate_format\u001B[49m\u001B[38;5;241;43m=\u001B[39;49m\u001B[43mdate_format\u001B[49m\u001B[43m,\u001B[49m\n\u001B[0;32m   3786\u001B[0m \u001B[43m    \u001B[49m\u001B[43mdoublequote\u001B[49m\u001B[38;5;241;43m=\u001B[39;49m\u001B[43mdoublequote\u001B[49m\u001B[43m,\u001B[49m\n\u001B[0;32m   3787\u001B[0m \u001B[43m    \u001B[49m\u001B[43mescapechar\u001B[49m\u001B[38;5;241;43m=\u001B[39;49m\u001B[43mescapechar\u001B[49m\u001B[43m,\u001B[49m\n\u001B[0;32m   3788\u001B[0m \u001B[43m    \u001B[49m\u001B[43mstorage_options\u001B[49m\u001B[38;5;241;43m=\u001B[39;49m\u001B[43mstorage_options\u001B[49m\u001B[43m,\u001B[49m\n\u001B[0;32m   3789\u001B[0m \u001B[43m\u001B[49m\u001B[43m)\u001B[49m\n",
      "File \u001B[1;32m~\\AppData\\Local\\Programs\\Python\\Python311\\Lib\\site-packages\\pandas\\io\\formats\\format.py:1186\u001B[0m, in \u001B[0;36mDataFrameRenderer.to_csv\u001B[1;34m(self, path_or_buf, encoding, sep, columns, index_label, mode, compression, quoting, quotechar, lineterminator, chunksize, date_format, doublequote, escapechar, errors, storage_options)\u001B[0m\n\u001B[0;32m   1165\u001B[0m     created_buffer \u001B[38;5;241m=\u001B[39m \u001B[38;5;28;01mFalse\u001B[39;00m\n\u001B[0;32m   1167\u001B[0m csv_formatter \u001B[38;5;241m=\u001B[39m CSVFormatter(\n\u001B[0;32m   1168\u001B[0m     path_or_buf\u001B[38;5;241m=\u001B[39mpath_or_buf,\n\u001B[0;32m   1169\u001B[0m     lineterminator\u001B[38;5;241m=\u001B[39mlineterminator,\n\u001B[1;32m   (...)\u001B[0m\n\u001B[0;32m   1184\u001B[0m     formatter\u001B[38;5;241m=\u001B[39m\u001B[38;5;28mself\u001B[39m\u001B[38;5;241m.\u001B[39mfmt,\n\u001B[0;32m   1185\u001B[0m )\n\u001B[1;32m-> 1186\u001B[0m \u001B[43mcsv_formatter\u001B[49m\u001B[38;5;241;43m.\u001B[39;49m\u001B[43msave\u001B[49m\u001B[43m(\u001B[49m\u001B[43m)\u001B[49m\n\u001B[0;32m   1188\u001B[0m \u001B[38;5;28;01mif\u001B[39;00m created_buffer:\n\u001B[0;32m   1189\u001B[0m     \u001B[38;5;28;01massert\u001B[39;00m \u001B[38;5;28misinstance\u001B[39m(path_or_buf, StringIO)\n",
      "File \u001B[1;32m~\\AppData\\Local\\Programs\\Python\\Python311\\Lib\\site-packages\\pandas\\io\\formats\\csvs.py:240\u001B[0m, in \u001B[0;36mCSVFormatter.save\u001B[1;34m(self)\u001B[0m\n\u001B[0;32m    236\u001B[0m \u001B[38;5;250m\u001B[39m\u001B[38;5;124;03m\"\"\"\u001B[39;00m\n\u001B[0;32m    237\u001B[0m \u001B[38;5;124;03mCreate the writer & save.\u001B[39;00m\n\u001B[0;32m    238\u001B[0m \u001B[38;5;124;03m\"\"\"\u001B[39;00m\n\u001B[0;32m    239\u001B[0m \u001B[38;5;66;03m# apply compression and byte/text conversion\u001B[39;00m\n\u001B[1;32m--> 240\u001B[0m \u001B[38;5;28;01mwith\u001B[39;00m \u001B[43mget_handle\u001B[49m\u001B[43m(\u001B[49m\n\u001B[0;32m    241\u001B[0m \u001B[43m    \u001B[49m\u001B[38;5;28;43mself\u001B[39;49m\u001B[38;5;241;43m.\u001B[39;49m\u001B[43mfilepath_or_buffer\u001B[49m\u001B[43m,\u001B[49m\n\u001B[0;32m    242\u001B[0m \u001B[43m    \u001B[49m\u001B[38;5;28;43mself\u001B[39;49m\u001B[38;5;241;43m.\u001B[39;49m\u001B[43mmode\u001B[49m\u001B[43m,\u001B[49m\n\u001B[0;32m    243\u001B[0m \u001B[43m    \u001B[49m\u001B[43mencoding\u001B[49m\u001B[38;5;241;43m=\u001B[39;49m\u001B[38;5;28;43mself\u001B[39;49m\u001B[38;5;241;43m.\u001B[39;49m\u001B[43mencoding\u001B[49m\u001B[43m,\u001B[49m\n\u001B[0;32m    244\u001B[0m \u001B[43m    \u001B[49m\u001B[43merrors\u001B[49m\u001B[38;5;241;43m=\u001B[39;49m\u001B[38;5;28;43mself\u001B[39;49m\u001B[38;5;241;43m.\u001B[39;49m\u001B[43merrors\u001B[49m\u001B[43m,\u001B[49m\n\u001B[0;32m    245\u001B[0m \u001B[43m    \u001B[49m\u001B[43mcompression\u001B[49m\u001B[38;5;241;43m=\u001B[39;49m\u001B[38;5;28;43mself\u001B[39;49m\u001B[38;5;241;43m.\u001B[39;49m\u001B[43mcompression\u001B[49m\u001B[43m,\u001B[49m\n\u001B[0;32m    246\u001B[0m \u001B[43m    \u001B[49m\u001B[43mstorage_options\u001B[49m\u001B[38;5;241;43m=\u001B[39;49m\u001B[38;5;28;43mself\u001B[39;49m\u001B[38;5;241;43m.\u001B[39;49m\u001B[43mstorage_options\u001B[49m\u001B[43m,\u001B[49m\n\u001B[0;32m    247\u001B[0m \u001B[43m\u001B[49m\u001B[43m)\u001B[49m \u001B[38;5;28;01mas\u001B[39;00m handles:\n\u001B[0;32m    248\u001B[0m     \u001B[38;5;66;03m# Note: self.encoding is irrelevant here\u001B[39;00m\n\u001B[0;32m    249\u001B[0m     \u001B[38;5;28mself\u001B[39m\u001B[38;5;241m.\u001B[39mwriter \u001B[38;5;241m=\u001B[39m csvlib\u001B[38;5;241m.\u001B[39mwriter(\n\u001B[0;32m    250\u001B[0m         handles\u001B[38;5;241m.\u001B[39mhandle,\n\u001B[0;32m    251\u001B[0m         lineterminator\u001B[38;5;241m=\u001B[39m\u001B[38;5;28mself\u001B[39m\u001B[38;5;241m.\u001B[39mlineterminator,\n\u001B[1;32m   (...)\u001B[0m\n\u001B[0;32m    256\u001B[0m         quotechar\u001B[38;5;241m=\u001B[39m\u001B[38;5;28mself\u001B[39m\u001B[38;5;241m.\u001B[39mquotechar,\n\u001B[0;32m    257\u001B[0m     )\n\u001B[0;32m    259\u001B[0m     \u001B[38;5;28mself\u001B[39m\u001B[38;5;241m.\u001B[39m_save()\n",
      "File \u001B[1;32m~\\AppData\\Local\\Programs\\Python\\Python311\\Lib\\site-packages\\pandas\\io\\common.py:859\u001B[0m, in \u001B[0;36mget_handle\u001B[1;34m(path_or_buf, mode, encoding, compression, memory_map, is_text, errors, storage_options)\u001B[0m\n\u001B[0;32m    854\u001B[0m \u001B[38;5;28;01melif\u001B[39;00m \u001B[38;5;28misinstance\u001B[39m(handle, \u001B[38;5;28mstr\u001B[39m):\n\u001B[0;32m    855\u001B[0m     \u001B[38;5;66;03m# Check whether the filename is to be opened in binary mode.\u001B[39;00m\n\u001B[0;32m    856\u001B[0m     \u001B[38;5;66;03m# Binary mode does not support 'encoding' and 'newline'.\u001B[39;00m\n\u001B[0;32m    857\u001B[0m     \u001B[38;5;28;01mif\u001B[39;00m ioargs\u001B[38;5;241m.\u001B[39mencoding \u001B[38;5;129;01mand\u001B[39;00m \u001B[38;5;124m\"\u001B[39m\u001B[38;5;124mb\u001B[39m\u001B[38;5;124m\"\u001B[39m \u001B[38;5;129;01mnot\u001B[39;00m \u001B[38;5;129;01min\u001B[39;00m ioargs\u001B[38;5;241m.\u001B[39mmode:\n\u001B[0;32m    858\u001B[0m         \u001B[38;5;66;03m# Encoding\u001B[39;00m\n\u001B[1;32m--> 859\u001B[0m         handle \u001B[38;5;241m=\u001B[39m \u001B[38;5;28mopen\u001B[39m(\n\u001B[0;32m    860\u001B[0m             handle,\n\u001B[0;32m    861\u001B[0m             ioargs\u001B[38;5;241m.\u001B[39mmode,\n\u001B[0;32m    862\u001B[0m             encoding\u001B[38;5;241m=\u001B[39mioargs\u001B[38;5;241m.\u001B[39mencoding,\n\u001B[0;32m    863\u001B[0m             errors\u001B[38;5;241m=\u001B[39merrors,\n\u001B[0;32m    864\u001B[0m             newline\u001B[38;5;241m=\u001B[39m\u001B[38;5;124m\"\u001B[39m\u001B[38;5;124m\"\u001B[39m,\n\u001B[0;32m    865\u001B[0m         )\n\u001B[0;32m    866\u001B[0m     \u001B[38;5;28;01melse\u001B[39;00m:\n\u001B[0;32m    867\u001B[0m         \u001B[38;5;66;03m# Binary mode\u001B[39;00m\n\u001B[0;32m    868\u001B[0m         handle \u001B[38;5;241m=\u001B[39m \u001B[38;5;28mopen\u001B[39m(handle, ioargs\u001B[38;5;241m.\u001B[39mmode)\n",
      "\u001B[1;31mPermissionError\u001B[0m: [Errno 13] Permission denied: './results/Base_run_0_policies/parameters_Total_Expected_Number_of_Deaths.csv'"
     ]
    }
   ],
   "source": [
    "run_sensitivity_analysis(\"results/run_sobol_base.tar.gz\", \"results/run_base.tar.gz\", 'Base_run_0_policies')\n",
    "run_sensitivity_analysis(\"results/run_sobol_policies.tar.gz\", \"results/run_policies.tar.gz\", 'Base_run_10_policies')"
   ],
   "metadata": {
    "collapsed": false,
    "ExecuteTime": {
     "end_time": "2023-06-13T12:15:21.604353100Z",
     "start_time": "2023-06-13T12:15:20.857516900Z"
    }
   }
  },
  {
   "cell_type": "code",
   "execution_count": null,
   "outputs": [],
   "source": [],
   "metadata": {
    "collapsed": false
   }
  }
 ],
 "metadata": {
  "kernelspec": {
   "display_name": "Python 3",
   "language": "python",
   "name": "python3"
  },
  "language_info": {
   "codemirror_mode": {
    "name": "ipython",
    "version": 2
   },
   "file_extension": ".py",
   "mimetype": "text/x-python",
   "name": "python",
   "nbconvert_exporter": "python",
   "pygments_lexer": "ipython2",
   "version": "2.7.6"
  }
 },
 "nbformat": 4,
 "nbformat_minor": 0
}
