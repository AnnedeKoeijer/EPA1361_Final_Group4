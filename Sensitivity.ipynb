{
 "cells": [
  {
   "cell_type": "code",
   "execution_count": null,
   "outputs": [],
   "source": [
    "from ema_workbench import load_results\n",
    "import pandas as pd\n",
    "import statsmodels.api as sm\n",
    "from ema_workbench.analysis import prim\n",
    "from ema_workbench import ema_logging\n",
    "import numpy as np\n",
    "desired_width = 320\n",
    "pd.set_option('display.width', desired_width)\n",
    "pd.set_option('display.max_columns',50)\n",
    "from problem_formulation import get_model_for_problem_formulation\n",
    "from ema_workbench.em_framework.salib_samplers import get_SALib_problem\n",
    "from dike_model_simulation import problem_formulation\n",
    "from SALib.analyze import sobol\n",
    "import seaborn as sns\n",
    "import matplotlib.pyplot as plt\n",
    "import os\n",
    "from ema_workbench.analysis import feature_scoring\n",
    "\n",
    "dike_model, planning_steps = get_model_for_problem_formulation(problem_formulation)\n"
   ],
   "metadata": {
    "collapsed": false
   }
  },
  {
   "cell_type": "code",
   "execution_count": null,
   "outputs": [],
   "source": [
    "def setup_dataframe_outcomes (outcomes):\n",
    "    outcome = {f'{key} {i + 1}': value[:, i] for key, value in outcomes.items() for i in range(value.shape[1])}\n",
    "    df_outcomes = pd.DataFrame(outcome)\n",
    "    for i in range(1,6):\n",
    "        df_outcomes[f'A.{i}_Expected_Annual_Damage'] = (df_outcomes[[col for col in df_outcomes.columns if col.startswith(f'A.{i}_Expected Annual Damage')]].sum(axis=1))*(200/len(planning_steps))\n",
    "        df_outcomes = df_outcomes.drop(df_outcomes.columns[df_outcomes.columns.str.startswith(f'A.{i}_Expected Annual Damage')], axis=1)\n",
    "\n",
    "        df_outcomes[f'A.{i}_Dike_Investment_Costs'] = df_outcomes[[col for col in df_outcomes.columns if col.startswith(f'A.{i}_Dike Investment Costs')]].sum(axis=1)\n",
    "        df_outcomes = df_outcomes.drop(df_outcomes.columns[df_outcomes.columns.str.startswith(f'A.{i}_Dike Investment Costs')], axis=1)\n",
    "\n",
    "        df_outcomes[f'A.{i}_Expected_Number_of_Deaths'] = df_outcomes[[col for col in df_outcomes.columns if col.startswith(f'A.{i}_Expected Number of Deaths')]].sum(axis=1)*(200/len(planning_steps))\n",
    "        df_outcomes = df_outcomes.drop(df_outcomes.columns[df_outcomes.columns.str.startswith(f'A.{i}_Expected Number of Deaths')], axis=1)\n",
    "\n",
    "    df_outcomes['RfR_Total_Costs'] = df_outcomes[[col for col in df_outcomes.columns if col.startswith('RfR Total Costs')]].sum(axis=1)\n",
    "    df_outcomes = df_outcomes.drop(df_outcomes.columns[df_outcomes.columns.str.startswith('RfR Total Costs')], axis=1)\n",
    "\n",
    "    df_outcomes['Expected_evacuation_costs'] = df_outcomes[[col for col in df_outcomes.columns if col.startswith('Expected Evacuation Costs')]].sum(axis=1)\n",
    "    df_outcomes = df_outcomes.drop(df_outcomes.columns[df_outcomes.columns.str.startswith('Expected Evacuation Costs')], axis=1)\n",
    "\n",
    "    df_outcomes['Total_Expected_Number_of_Deaths'] = df_outcomes[[col for col in df_outcomes.columns if col.endswith('Expected_Number_of_Deaths')]].sum(axis=1)\n",
    "    df_outcomes['Total_Dike_Investment_Costs'] = df_outcomes[[col for col in df_outcomes.columns if col.endswith('Dike_Investment_Costs')]].sum(axis=1)\n",
    "    df_outcomes['Total_Expected_Annual_Damage'] = df_outcomes[[col for col in df_outcomes.columns if col.endswith('Expected_Annual_Damage')]].sum(axis=1)\n",
    "    return df_outcomes"
   ],
   "metadata": {
    "collapsed": false
   }
  },
  {
   "cell_type": "code",
   "execution_count": null,
   "outputs": [],
   "source": [
    "def run_regression (kpi, df_outcomes, df_experiments, name):\n",
    "    final_lhs = df_outcomes[kpi]\n",
    "    X_0 = sm.add_constant(df_experiments)\n",
    "    est = sm.OLS(final_lhs, X_0.astype(float)).fit()\n",
    "    parameters_df = pd.DataFrame(est.params, columns=['Parameter'])\n",
    "    parameters_df.index.name = 'Variable'\n",
    "    # Save parameters to CSV\n",
    "    parameters_df.to_csv(f'./results/{name}/parameters_{kpi}.csv')\n",
    "    # Save summary to CSV\n",
    "    with open(f'./results/{name}/summary_{kpi}.txt', 'w') as f:\n",
    "        f.write(est.summary().as_text())"
   ],
   "metadata": {
    "collapsed": false
   }
  },
  {
   "cell_type": "markdown",
   "source": [
    "#### 2. Sobol"
   ],
   "metadata": {
    "collapsed": false
   }
  },
  {
   "cell_type": "code",
   "execution_count": null,
   "outputs": [],
   "source": [
    "def run_sobol(df_outcomes_sobol, kpi, problem, name):\n",
    "    final_sobol = df_outcomes_sobol[kpi].to_numpy()\n",
    "    Si = sobol.analyze(problem, final_sobol, calc_second_order=True, print_to_console=True)\n",
    "    Si_filter = {k: Si[k] for k in ['ST', 'ST_conf', 'S1', 'S1_conf']}\n",
    "    Si_df = pd.DataFrame(Si_filter, index=problem['names'])\n",
    "\n",
    "    try:\n",
    "        sns.set_style('white')\n",
    "        fig, ax = plt.subplots(1)\n",
    "\n",
    "        indices = Si_df[['S1', 'ST']]\n",
    "        err = Si_df[['S1_conf', 'ST_conf']]\n",
    "\n",
    "        indices.plot.bar(yerr=err.values.T, ax=ax)\n",
    "        fig.set_size_inches(8, 6)\n",
    "        fig.subplots_adjust(bottom=0.3)\n",
    "\n",
    "        # Create the directory if it doesn't exist\n",
    "        os.makedirs(f'./results/{name}', exist_ok=True)\n",
    "\n",
    "        plt.savefig(f'./results/{name}/sobol_plot_{kpi}.png')\n",
    "\n",
    "        plt.close(fig)  # Close the figure to free up resources\n",
    "    except Exception as e:\n",
    "        print(f\"An error occurred while creating the plot: {str(e)}\")\n",
    "        # Perform any desired actions when the plot cannot be created\n",
    "        # For example, return an empty plot, log the error, or continue with other code\n"
   ],
   "metadata": {
    "collapsed": false
   }
  },
  {
   "cell_type": "code",
   "execution_count": null,
   "outputs": [],
   "source": [
    "def check_convergence (df_outcomes_sobol, kpi, problem, name):\n",
    "    Y = df_outcomes_sobol[kpi].to_numpy()\n",
    "    s_data = pd.DataFrame(index=problem['names'],\n",
    "                          columns=np.arange(20,100,50)*(2*problem['num_vars']+2))\n",
    "    for j in s_data.columns:\n",
    "        scores = sobol.analyze(problem, Y[0:j], calc_second_order=True, print_to_console=False)\n",
    "        s_data.loc[:,j] = scores['ST']\n",
    "    fig, ax = plt.subplots(1)\n",
    "\n",
    "    s_data.T.plot(ax=ax)\n",
    "    ax.set_xlabel('Samples')\n",
    "    ax.set_ylabel('Total index (ST)')\n",
    "    ax.legend(loc='upper center', bbox_to_anchor=(0.5, -0.05),\n",
    "              fancybox=True, shadow=True, ncol=5)\n",
    "    plt.savefig(f'./results/{name}/scenario_check_plot_{kpi}.png')"
   ],
   "metadata": {
    "collapsed": false
   }
  },
  {
   "cell_type": "code",
   "execution_count": null,
   "outputs": [],
   "source": [
    "def extra_trees(df_outcomes, experiments, name):\n",
    "    df_outcomes_kpis = df_outcomes[['Total_Expected_Number_of_Deaths','Total_Dike_Investment_Costs','Total_Expected_Annual_Damage', 'Expected_evacuation_costs', 'RfR_Total_Costs' ]].copy()\n",
    "    experiments_uncertainties = experiments[['A.0_ID flood wave shape', 'A.1_Bmax', 'A.1_Brate', 'A.1_pfail', 'A.2_Bmax', 'A.2_Brate', 'A.2_pfail', 'A.3_Bmax', 'A.3_Brate', 'A.3_pfail', 'A.4_Bmax', 'A.4_Brate', 'A.4_pfail', 'A.5_Bmax', 'A.5_Brate', 'A.5_pfail', 'discount rate 0', 'discount rate 1', 'discount rate 2', 'discount rate 3']].copy()\n",
    "    fs = feature_scoring.get_feature_scores_all(experiments_uncertainties,df_outcomes_kpis)\n",
    "    sns.heatmap(fs, cmap=\"viridis\", annot=True)\n",
    "    plt.savefig(f'./results/{name}/Tree_analysis.png')"
   ],
   "metadata": {
    "collapsed": false
   }
  },
  {
   "cell_type": "code",
   "execution_count": null,
   "outputs": [],
   "source": [
    "def run_sensitivity_analysis(sobol, regular, name):\n",
    "    if not os.path.exists(f'./results/{name}'):\n",
    "        os.mkdir(f'./results/{name}')\n",
    "    else:\n",
    "        for filename in os.listdir(f'./results/{name}'):\n",
    "            file_path = os.path.join(f'./results/{name}', filename)\n",
    "            if os.path.isfile(file_path):\n",
    "                os.remove(file_path)\n",
    "        # shutil.rmtree(f'./results/{name}')\n",
    "        # os.mkdir(f'./results/{name}')\n",
    "    experiments, outcomes = load_results(regular)\n",
    "    experiments_sobol, outcomes_sobol = load_results(sobol)\n",
    "    df_outcomes = setup_dataframe_outcomes(outcomes)\n",
    "    df_outcomes_sobol = setup_dataframe_outcomes(outcomes_sobol)\n",
    "\n",
    "    df_experiments = experiments.drop(['policy', 'model', 'scenario'], axis = 1)\n",
    "    df_experiments_sobol = experiments_sobol.drop(['policy', 'model', 'scenario'], axis = 1)\n",
    "    run_regression ('Total_Expected_Number_of_Deaths', df_outcomes, df_experiments, name)\n",
    "    run_regression ('Total_Dike_Investment_Costs', df_outcomes, df_experiments, name)\n",
    "    run_regression ('Total_Expected_Annual_Damage', df_outcomes, df_experiments, name)\n",
    "    run_regression ('Expected_evacuation_costs', df_outcomes, df_experiments, name)\n",
    "    run_regression ('RfR_Total_Costs', df_outcomes, df_experiments, name)\n",
    "\n",
    "    problem = get_SALib_problem(dike_model.uncertainties)\n",
    "\n",
    "    run_sobol (df_outcomes_sobol, 'Total_Expected_Number_of_Deaths', problem, name)\n",
    "    run_sobol (df_outcomes_sobol, 'Total_Dike_Investment_Costs', problem, name)\n",
    "    run_sobol (df_outcomes_sobol, 'Total_Expected_Annual_Damage', problem, name)\n",
    "    run_sobol (df_outcomes_sobol, 'Expected_evacuation_costs', problem, name)\n",
    "    run_sobol (df_outcomes_sobol, 'RfR_Total_Costs', problem, name)\n",
    "\n",
    "    check_convergence (df_outcomes_sobol, 'Total_Expected_Number_of_Deaths', problem, name)\n",
    "    check_convergence (df_outcomes_sobol, 'Total_Dike_Investment_Costs', problem, name)\n",
    "    check_convergence (df_outcomes_sobol, 'Total_Expected_Annual_Damage', problem, name)\n",
    "    check_convergence (df_outcomes_sobol, 'Expected_evacuation_costs', problem, name)\n",
    "    check_convergence (df_outcomes_sobol, 'RfR_Total_Costs', problem, name)\n",
    "\n",
    "    extra_trees(df_outcomes, experiments, name)"
   ],
   "metadata": {
    "collapsed": false
   }
  },
  {
   "cell_type": "code",
   "execution_count": null,
   "outputs": [],
   "source": [
    "run_sensitivity_analysis(\"results/run_sobol_base.tar.gz\", \"results/run_base.tar.gz\", 'Base_run_0_policies')\n",
    "run_sensitivity_analysis(\"results/run_sobol_policies.tar.gz\", \"results/run_policies.tar.gz\", 'Base_run_10_policies')"
   ],
   "metadata": {
    "collapsed": false
   }
  }
 ],
 "metadata": {
  "kernelspec": {
   "display_name": "Python 3",
   "language": "python",
   "name": "python3"
  },
  "language_info": {
   "codemirror_mode": {
    "name": "ipython",
    "version": 2
   },
   "file_extension": ".py",
   "mimetype": "text/x-python",
   "name": "python",
   "nbconvert_exporter": "python",
   "pygments_lexer": "ipython2",
   "version": "2.7.6"
  }
 },
 "nbformat": 4,
 "nbformat_minor": 0
}
