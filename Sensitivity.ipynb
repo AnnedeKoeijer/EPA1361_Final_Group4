{
 "cells": [
  {
   "cell_type": "code",
   "execution_count": 113,
   "metadata": {
    "collapsed": true,
    "ExecuteTime": {
     "end_time": "2023-06-07T06:58:52.097722500Z",
     "start_time": "2023-06-07T06:58:52.096730800Z"
    }
   },
   "outputs": [],
   "source": [
    "from ema_workbench import load_results\n",
    "import pandas as pd\n",
    "import statsmodels.api as sm\n",
    "from ema_workbench.analysis import prim\n",
    "from ema_workbench import ema_logging\n",
    "import numpy as np\n",
    "desired_width = 320\n",
    "pd.set_option('display.width', desired_width)\n",
    "pd.set_option('display.max_columns',50)"
   ]
  },
  {
   "cell_type": "code",
   "execution_count": 114,
   "outputs": [],
   "source": [
    "experiments, outcomes = load_results('./results/run_1.tar.gz')"
   ],
   "metadata": {
    "collapsed": false,
    "ExecuteTime": {
     "end_time": "2023-06-07T06:58:52.426846900Z",
     "start_time": "2023-06-07T06:58:52.412772900Z"
    }
   }
  },
  {
   "cell_type": "code",
   "execution_count": 115,
   "outputs": [],
   "source": [
    "df_outcomes = pd.DataFrame({key: np.concatenate(value) for key, value in outcomes.items()})\n",
    "outcome = {f'{key} {i + 1}': value[:, i] for key, value in outcomes.items() for i in range(value.shape[1])}\n",
    "df_outcomes = pd.DataFrame(outcome)\n",
    "df_outcomes.to_excel('results/firstcheck.xlsx')"
   ],
   "metadata": {
    "collapsed": false,
    "ExecuteTime": {
     "end_time": "2023-06-07T06:58:52.737967Z",
     "start_time": "2023-06-07T06:58:52.707968800Z"
    }
   }
  },
  {
   "cell_type": "code",
   "execution_count": 116,
   "outputs": [],
   "source": [
    "number_of_steps = sum(df_outcomes.columns.str.startswith('RfR Total Costs'))"
   ],
   "metadata": {
    "collapsed": false,
    "ExecuteTime": {
     "end_time": "2023-06-07T06:58:53.038315Z",
     "start_time": "2023-06-07T06:58:53.022526500Z"
    }
   }
  },
  {
   "cell_type": "code",
   "execution_count": 117,
   "outputs": [],
   "source": [
    "for i in range(1,6):\n",
    "    df_outcomes[f'A.{i}_Expected_Anual_Dagame'] = (df_outcomes[[col for col in df_outcomes.columns if col.startswith(f'A.{i}_Expected Annual Damage')]].sum(axis=1))*(200/number_of_steps)\n",
    "    df_outcomes = df_outcomes.drop(df_outcomes.columns[df_outcomes.columns.str.startswith(f'A.{i}_Expected Annual Damage')], axis=1)\n",
    "\n",
    "    df_outcomes[f'A.{i}_Dike_Investment_Costs'] = df_outcomes[[col for col in df_outcomes.columns if col.startswith(f'A.{i}_Dike Investment Costs')]].sum(axis=1)\n",
    "    df_outcomes = df_outcomes.drop(df_outcomes.columns[df_outcomes.columns.str.startswith(f'A.{i}_Dike Investment Costs')], axis=1)\n",
    "\n",
    "    df_outcomes[f'A.{i}_Expected_Number_of_Deaths'] = df_outcomes[[col for col in df_outcomes.columns if col.startswith(f'A.{i}_Expected Number of Deaths')]].sum(axis=1)*(200/number_of_steps)\n",
    "    df_outcomes = df_outcomes.drop(df_outcomes.columns[df_outcomes.columns.str.startswith(f'A.{i}_Expected Number of Deaths')], axis=1)\n",
    "\n",
    "df_outcomes['RfR_Total_Costs'] = df_outcomes[[col for col in df_outcomes.columns if col.startswith('RfR Total Costs')]].sum(axis=1)\n",
    "df_outcomes = df_outcomes.drop(df_outcomes.columns[df_outcomes.columns.str.startswith('RfR Total Costs')], axis=1)\n",
    "\n",
    "df_outcomes['Expected_evacuation_costs'] = df_outcomes[[col for col in df_outcomes.columns if col.startswith('Expected Evacuation Costs')]].sum(axis=1)\n",
    "df_outcomes = df_outcomes.drop(df_outcomes.columns[df_outcomes.columns.str.startswith('Expected Evacuation Costs')], axis=1)\n",
    "\n",
    "df_outcomes['Total_Expected_Number_of_Deaths'] = df_outcomes[[col for col in df_outcomes.columns if col.endswith('Expected_Number_of_Deaths')]].sum(axis=1)\n",
    "df_outcomes['Total_Dike_Investment_Costs'] = df_outcomes[[col for col in df_outcomes.columns if col.endswith('Dike_Investment_Costs')]].sum(axis=1)\n",
    "df_outcomes['Total_Expected_Anual_Dagame'] = df_outcomes[[col for col in df_outcomes.columns if col.endswith('Expected_Anual_Dagame')]].sum(axis=1)\n",
    "\n"
   ],
   "metadata": {
    "collapsed": false,
    "ExecuteTime": {
     "end_time": "2023-06-07T06:58:53.420270400Z",
     "start_time": "2023-06-07T06:58:53.382570400Z"
    }
   }
  },
  {
   "cell_type": "code",
   "execution_count": 118,
   "outputs": [
    {
     "data": {
      "text/plain": "   A.1_Expected_Anual_Dagame  A.1_Dike_Investment_Costs  A.1_Expected_Number_of_Deaths  A.2_Expected_Anual_Dagame  A.2_Dike_Investment_Costs  A.2_Expected_Number_of_Deaths  A.3_Expected_Anual_Dagame  A.3_Dike_Investment_Costs  A.3_Expected_Number_of_Deaths  A.4_Expected_Anual_Dagame  A.4_Dike_Investment_Costs   \n0               0.000000e+00                          0                       0.000000               5.368575e+10                          0                      52.367801               0.000000e+00                          0                       0.000000               0.000000e+00                          0  \\\n1               1.541560e+11                          0                     120.874582               2.760771e+09                          0                       2.858578               0.000000e+00                          0                       0.000000               0.000000e+00                          0   \n2               0.000000e+00                          0                       0.000000               1.264342e+10                          0                      12.291364               1.219810e+11                          0                     215.721831               0.000000e+00                          0   \n3               1.498913e+11                          0                     121.284316               0.000000e+00                          0                       0.000000               0.000000e+00                          0                       0.000000               1.544127e+08                          0   \n4               1.413886e+11                          0                     116.947475               1.005578e+09                          0                       1.147093               1.239573e+09                          0                       2.732778               8.597644e+08                          0   \n\n   A.4_Expected_Number_of_Deaths  A.5_Expected_Anual_Dagame  A.5_Dike_Investment_Costs  A.5_Expected_Number_of_Deaths  RfR_Total_Costs  Expected_evacuation_costs  Total_Expected_Number_of_Deaths  Total_Dike_Investment_Costs  Total_Expected_Anual_Dagame  \n0                       0.000000                        0.0                          0                            0.0              0.0                        0.0                        52.367801                            0                 5.368575e+10  \n1                       0.000000                        0.0                          0                            0.0              0.0                        0.0                       123.733160                            0                 1.569167e+11  \n2                       0.000000                        0.0                          0                            0.0              0.0                        0.0                       228.013194                            0                 1.346245e+11  \n3                       0.072141                        0.0                          0                            0.0              0.0                        0.0                       121.356457                            0                 1.500457e+11  \n4                       0.493334                        0.0                          0                            0.0              0.0                        0.0                       121.320680                            0                 1.444936e+11  ",
      "text/html": "<div>\n<style scoped>\n    .dataframe tbody tr th:only-of-type {\n        vertical-align: middle;\n    }\n\n    .dataframe tbody tr th {\n        vertical-align: top;\n    }\n\n    .dataframe thead th {\n        text-align: right;\n    }\n</style>\n<table border=\"1\" class=\"dataframe\">\n  <thead>\n    <tr style=\"text-align: right;\">\n      <th></th>\n      <th>A.1_Expected_Anual_Dagame</th>\n      <th>A.1_Dike_Investment_Costs</th>\n      <th>A.1_Expected_Number_of_Deaths</th>\n      <th>A.2_Expected_Anual_Dagame</th>\n      <th>A.2_Dike_Investment_Costs</th>\n      <th>A.2_Expected_Number_of_Deaths</th>\n      <th>A.3_Expected_Anual_Dagame</th>\n      <th>A.3_Dike_Investment_Costs</th>\n      <th>A.3_Expected_Number_of_Deaths</th>\n      <th>A.4_Expected_Anual_Dagame</th>\n      <th>A.4_Dike_Investment_Costs</th>\n      <th>A.4_Expected_Number_of_Deaths</th>\n      <th>A.5_Expected_Anual_Dagame</th>\n      <th>A.5_Dike_Investment_Costs</th>\n      <th>A.5_Expected_Number_of_Deaths</th>\n      <th>RfR_Total_Costs</th>\n      <th>Expected_evacuation_costs</th>\n      <th>Total_Expected_Number_of_Deaths</th>\n      <th>Total_Dike_Investment_Costs</th>\n      <th>Total_Expected_Anual_Dagame</th>\n    </tr>\n  </thead>\n  <tbody>\n    <tr>\n      <th>0</th>\n      <td>0.000000e+00</td>\n      <td>0</td>\n      <td>0.000000</td>\n      <td>5.368575e+10</td>\n      <td>0</td>\n      <td>52.367801</td>\n      <td>0.000000e+00</td>\n      <td>0</td>\n      <td>0.000000</td>\n      <td>0.000000e+00</td>\n      <td>0</td>\n      <td>0.000000</td>\n      <td>0.0</td>\n      <td>0</td>\n      <td>0.0</td>\n      <td>0.0</td>\n      <td>0.0</td>\n      <td>52.367801</td>\n      <td>0</td>\n      <td>5.368575e+10</td>\n    </tr>\n    <tr>\n      <th>1</th>\n      <td>1.541560e+11</td>\n      <td>0</td>\n      <td>120.874582</td>\n      <td>2.760771e+09</td>\n      <td>0</td>\n      <td>2.858578</td>\n      <td>0.000000e+00</td>\n      <td>0</td>\n      <td>0.000000</td>\n      <td>0.000000e+00</td>\n      <td>0</td>\n      <td>0.000000</td>\n      <td>0.0</td>\n      <td>0</td>\n      <td>0.0</td>\n      <td>0.0</td>\n      <td>0.0</td>\n      <td>123.733160</td>\n      <td>0</td>\n      <td>1.569167e+11</td>\n    </tr>\n    <tr>\n      <th>2</th>\n      <td>0.000000e+00</td>\n      <td>0</td>\n      <td>0.000000</td>\n      <td>1.264342e+10</td>\n      <td>0</td>\n      <td>12.291364</td>\n      <td>1.219810e+11</td>\n      <td>0</td>\n      <td>215.721831</td>\n      <td>0.000000e+00</td>\n      <td>0</td>\n      <td>0.000000</td>\n      <td>0.0</td>\n      <td>0</td>\n      <td>0.0</td>\n      <td>0.0</td>\n      <td>0.0</td>\n      <td>228.013194</td>\n      <td>0</td>\n      <td>1.346245e+11</td>\n    </tr>\n    <tr>\n      <th>3</th>\n      <td>1.498913e+11</td>\n      <td>0</td>\n      <td>121.284316</td>\n      <td>0.000000e+00</td>\n      <td>0</td>\n      <td>0.000000</td>\n      <td>0.000000e+00</td>\n      <td>0</td>\n      <td>0.000000</td>\n      <td>1.544127e+08</td>\n      <td>0</td>\n      <td>0.072141</td>\n      <td>0.0</td>\n      <td>0</td>\n      <td>0.0</td>\n      <td>0.0</td>\n      <td>0.0</td>\n      <td>121.356457</td>\n      <td>0</td>\n      <td>1.500457e+11</td>\n    </tr>\n    <tr>\n      <th>4</th>\n      <td>1.413886e+11</td>\n      <td>0</td>\n      <td>116.947475</td>\n      <td>1.005578e+09</td>\n      <td>0</td>\n      <td>1.147093</td>\n      <td>1.239573e+09</td>\n      <td>0</td>\n      <td>2.732778</td>\n      <td>8.597644e+08</td>\n      <td>0</td>\n      <td>0.493334</td>\n      <td>0.0</td>\n      <td>0</td>\n      <td>0.0</td>\n      <td>0.0</td>\n      <td>0.0</td>\n      <td>121.320680</td>\n      <td>0</td>\n      <td>1.444936e+11</td>\n    </tr>\n  </tbody>\n</table>\n</div>"
     },
     "execution_count": 118,
     "metadata": {},
     "output_type": "execute_result"
    }
   ],
   "source": [
    "df_outcomes.head()"
   ],
   "metadata": {
    "collapsed": false,
    "ExecuteTime": {
     "end_time": "2023-06-07T06:58:53.896241900Z",
     "start_time": "2023-06-07T06:58:53.880369400Z"
    }
   }
  },
  {
   "cell_type": "code",
   "execution_count": 109,
   "outputs": [
    {
     "data": {
      "text/plain": "Index(['A.0_ID flood wave shape', 'A.1_Bmax', 'A.1_Brate', 'A.1_pfail', 'A.2_Bmax', 'A.2_Brate', 'A.2_pfail', 'A.3_Bmax', 'A.3_Brate', 'A.3_pfail', 'A.4_Bmax', 'A.4_Brate', 'A.4_pfail', 'A.5_Bmax', 'A.5_Brate', 'A.5_pfail', 'discount rate 0', 'discount rate 1', 'discount rate 2', 'discount rate 3', '0_RfR 0',\n       '0_RfR 1', '0_RfR 2', '0_RfR 3', '1_RfR 0', '1_RfR 1', '1_RfR 2', '1_RfR 3', '2_RfR 0', '2_RfR 1', '2_RfR 2', '2_RfR 3', '3_RfR 0', '3_RfR 1', '3_RfR 2', '3_RfR 3', '4_RfR 0', '4_RfR 1', '4_RfR 2', '4_RfR 3', 'EWS_DaysToThreat', 'A.1_DikeIncrease 0', 'A.1_DikeIncrease 1', 'A.1_DikeIncrease 2',\n       'A.1_DikeIncrease 3', 'A.2_DikeIncrease 0', 'A.2_DikeIncrease 1', 'A.2_DikeIncrease 2', 'A.2_DikeIncrease 3', 'A.3_DikeIncrease 0', 'A.3_DikeIncrease 1', 'A.3_DikeIncrease 2', 'A.3_DikeIncrease 3', 'A.4_DikeIncrease 0', 'A.4_DikeIncrease 1', 'A.4_DikeIncrease 2', 'A.4_DikeIncrease 3', 'A.5_DikeIncrease 0',\n       'A.5_DikeIncrease 1', 'A.5_DikeIncrease 2', 'A.5_DikeIncrease 3'],\n      dtype='object')"
     },
     "execution_count": 109,
     "metadata": {},
     "output_type": "execute_result"
    }
   ],
   "source": [
    "df_experiments = experiments.drop(['policy', 'model', 'scenario'], axis = 1)\n",
    "df_experiments.columns"
   ],
   "metadata": {
    "collapsed": false,
    "ExecuteTime": {
     "end_time": "2023-06-07T06:53:28.144277400Z",
     "start_time": "2023-06-07T06:53:28.137825300Z"
    }
   }
  },
  {
   "cell_type": "code",
   "execution_count": 124,
   "outputs": [],
   "source": [
    "# #choosing only the columns of interest\n",
    "# df_input_experiments = df_experiments[['0_RfR 1', '0_RfR 2', '0_RfR 3', '1_RfR 0', '1_RfR 1', '1_RfR 2', '1_RfR 3', '2_RfR 0', '2_RfR 1', '2_RfR 2', '2_RfR 3', '3_RfR 0', '3_RfR 1', '3_RfR 2', '3_RfR 3', '4_RfR 0', '4_RfR 1', '4_RfR 2', '4_RfR 3', 'EWS_DaysToThreat', 'A.1_DikeIncrease 0', 'A.1_DikeIncrease 1', 'A.1_DikeIncrease 2',\n",
    "#        'A.1_DikeIncrease 3', 'A.2_DikeIncrease 0', 'A.2_DikeIncrease 1', 'A.2_DikeIncrease 2', 'A.2_DikeIncrease 3', 'A.3_DikeIncrease 0', 'A.3_DikeIncrease 1', 'A.3_DikeIncrease 2', 'A.3_DikeIncrease 3', 'A.4_DikeIncrease 0', 'A.4_DikeIncrease 1', 'A.4_DikeIncrease 2', 'A.4_DikeIncrease 3', 'A.5_DikeIncrease 0',\n",
    "#        'A.5_DikeIncrease 1', 'A.5_DikeIncrease 2', 'A.5_DikeIncrease 3']].copy()"
   ],
   "metadata": {
    "collapsed": false,
    "ExecuteTime": {
     "end_time": "2023-06-07T07:05:08.508027900Z",
     "start_time": "2023-06-07T07:05:08.502433800Z"
    }
   }
  },
  {
   "cell_type": "code",
   "execution_count": 128,
   "outputs": [
    {
     "name": "stdout",
     "output_type": "stream",
     "text": [
      "                                   OLS Regression Results                                  \n",
      "===========================================================================================\n",
      "Dep. Variable:     Total_Expected_Number_of_Deaths   R-squared:                       1.000\n",
      "Model:                                         OLS   Adj. R-squared:                    nan\n",
      "Method:                              Least Squares   F-statistic:                       nan\n",
      "Date:                             Wed, 07 Jun 2023   Prob (F-statistic):                nan\n",
      "Time:                                     09:15:08   Log-Likelihood:                 278.52\n",
      "No. Observations:                               10   AIC:                            -537.0\n",
      "Df Residuals:                                    0   BIC:                            -534.0\n",
      "Df Model:                                        9                                         \n",
      "Covariance Type:                         nonrobust                                         \n",
      "===========================================================================================\n",
      "                              coef    std err          t      P>|t|      [0.025      0.975]\n",
      "-------------------------------------------------------------------------------------------\n",
      "const                      -0.2698        inf         -0        nan         nan         nan\n",
      "A.0_ID flood wave shape     1.5773        inf          0        nan         nan         nan\n",
      "A.1_Bmax                   -0.3526        inf         -0        nan         nan         nan\n",
      "A.1_Brate                   5.2772        inf          0        nan         nan         nan\n",
      "A.1_pfail                  -0.7821        inf         -0        nan         nan         nan\n",
      "A.2_Bmax                    0.7389        inf          0        nan         nan         nan\n",
      "A.2_Brate                   8.3188        inf          0        nan         nan         nan\n",
      "A.2_pfail                  -0.7177        inf         -0        nan         nan         nan\n",
      "A.3_Bmax                    0.0326        inf          0        nan         nan         nan\n",
      "A.3_Brate                  -5.9973        inf         -0        nan         nan         nan\n",
      "A.3_pfail                  -1.0584        inf         -0        nan         nan         nan\n",
      "A.4_Bmax                   -1.0987        inf         -0        nan         nan         nan\n",
      "A.4_Brate                   3.1852        inf          0        nan         nan         nan\n",
      "A.4_pfail                   0.4077        inf          0        nan         nan         nan\n",
      "A.5_Bmax                    0.3316        inf          0        nan         nan         nan\n",
      "A.5_Brate                   2.1122        inf          0        nan         nan         nan\n",
      "A.5_pfail                  -0.3032        inf         -0        nan         nan         nan\n",
      "discount rate 0            -3.3930        inf         -0        nan         nan         nan\n",
      "discount rate 1             0.6100        inf          0        nan         nan         nan\n",
      "discount rate 2             4.1189        inf          0        nan         nan         nan\n",
      "discount rate 3             2.0151        inf          0        nan         nan         nan\n",
      "0_RfR 0                          0        nan        nan        nan         nan         nan\n",
      "0_RfR 1                          0        nan        nan        nan         nan         nan\n",
      "0_RfR 2                          0        nan        nan        nan         nan         nan\n",
      "0_RfR 3                          0        nan        nan        nan         nan         nan\n",
      "1_RfR 0                          0        nan        nan        nan         nan         nan\n",
      "1_RfR 1                          0        nan        nan        nan         nan         nan\n",
      "1_RfR 2                          0        nan        nan        nan         nan         nan\n",
      "1_RfR 3                          0        nan        nan        nan         nan         nan\n",
      "2_RfR 0                          0        nan        nan        nan         nan         nan\n",
      "2_RfR 1                          0        nan        nan        nan         nan         nan\n",
      "2_RfR 2                          0        nan        nan        nan         nan         nan\n",
      "2_RfR 3                          0        nan        nan        nan         nan         nan\n",
      "3_RfR 0                          0        nan        nan        nan         nan         nan\n",
      "3_RfR 1                          0        nan        nan        nan         nan         nan\n",
      "3_RfR 2                          0        nan        nan        nan         nan         nan\n",
      "3_RfR 3                          0        nan        nan        nan         nan         nan\n",
      "4_RfR 0                          0        nan        nan        nan         nan         nan\n",
      "4_RfR 1                          0        nan        nan        nan         nan         nan\n",
      "4_RfR 2                          0        nan        nan        nan         nan         nan\n",
      "4_RfR 3                          0        nan        nan        nan         nan         nan\n",
      "EWS_DaysToThreat                 0        nan        nan        nan         nan         nan\n",
      "A.1_DikeIncrease 0               0        nan        nan        nan         nan         nan\n",
      "A.1_DikeIncrease 1               0        nan        nan        nan         nan         nan\n",
      "A.1_DikeIncrease 2               0        nan        nan        nan         nan         nan\n",
      "A.1_DikeIncrease 3               0        nan        nan        nan         nan         nan\n",
      "A.2_DikeIncrease 0               0        nan        nan        nan         nan         nan\n",
      "A.2_DikeIncrease 1               0        nan        nan        nan         nan         nan\n",
      "A.2_DikeIncrease 2               0        nan        nan        nan         nan         nan\n",
      "A.2_DikeIncrease 3               0        nan        nan        nan         nan         nan\n",
      "A.3_DikeIncrease 0               0        nan        nan        nan         nan         nan\n",
      "A.3_DikeIncrease 1               0        nan        nan        nan         nan         nan\n",
      "A.3_DikeIncrease 2               0        nan        nan        nan         nan         nan\n",
      "A.3_DikeIncrease 3               0        nan        nan        nan         nan         nan\n",
      "A.4_DikeIncrease 0               0        nan        nan        nan         nan         nan\n",
      "A.4_DikeIncrease 1               0        nan        nan        nan         nan         nan\n",
      "A.4_DikeIncrease 2               0        nan        nan        nan         nan         nan\n",
      "A.4_DikeIncrease 3               0        nan        nan        nan         nan         nan\n",
      "A.5_DikeIncrease 0               0        nan        nan        nan         nan         nan\n",
      "A.5_DikeIncrease 1               0        nan        nan        nan         nan         nan\n",
      "A.5_DikeIncrease 2               0        nan        nan        nan         nan         nan\n",
      "A.5_DikeIncrease 3               0        nan        nan        nan         nan         nan\n",
      "==============================================================================\n",
      "Omnibus:                        0.974   Durbin-Watson:                   1.298\n",
      "Prob(Omnibus):                  0.614   Jarque-Bera (JB):                0.678\n",
      "Skew:                           0.250   Prob(JB):                        0.712\n",
      "Kurtosis:                       1.826   Cond. No.                         351.\n",
      "==============================================================================\n",
      "\n",
      "Notes:\n",
      "[1] Standard Errors assume that the covariance matrix of the errors is correctly specified.\n",
      "[2] The input rank is higher than the number of observations.\n",
      "const                     -0.269812\n",
      "A.0_ID flood wave shape    1.577275\n",
      "A.1_Bmax                  -0.352618\n",
      "A.1_Brate                  5.277209\n",
      "A.1_pfail                 -0.782070\n",
      "                             ...   \n",
      "A.4_DikeIncrease 3         0.000000\n",
      "A.5_DikeIncrease 0         0.000000\n",
      "A.5_DikeIncrease 1         0.000000\n",
      "A.5_DikeIncrease 2         0.000000\n",
      "A.5_DikeIncrease 3         0.000000\n",
      "Length: 62, dtype: float64\n"
     ]
    },
    {
     "name": "stderr",
     "output_type": "stream",
     "text": [
      "C:\\Users\\lvanv\\AppData\\Local\\Programs\\Python\\Python311\\Lib\\site-packages\\scipy\\stats\\_stats_py.py:1736: UserWarning: kurtosistest only valid for n>=20 ... continuing anyway, n=10\n",
      "  warnings.warn(\"kurtosistest only valid for n>=20 ... continuing \"\n",
      "C:\\Users\\lvanv\\AppData\\Local\\Programs\\Python\\Python311\\Lib\\site-packages\\statsmodels\\regression\\linear_model.py:1794: RuntimeWarning: divide by zero encountered in divide\n",
      "  return 1 - (np.divide(self.nobs - self.k_constant, self.df_resid)\n",
      "C:\\Users\\lvanv\\AppData\\Local\\Programs\\Python\\Python311\\Lib\\site-packages\\statsmodels\\regression\\linear_model.py:1794: RuntimeWarning: invalid value encountered in scalar multiply\n",
      "  return 1 - (np.divide(self.nobs - self.k_constant, self.df_resid)\n",
      "C:\\Users\\lvanv\\AppData\\Local\\Programs\\Python\\Python311\\Lib\\site-packages\\statsmodels\\regression\\linear_model.py:1716: RuntimeWarning: divide by zero encountered in scalar divide\n",
      "  return np.dot(wresid, wresid) / self.df_resid\n",
      "C:\\Users\\lvanv\\AppData\\Local\\Programs\\Python\\Python311\\Lib\\site-packages\\statsmodels\\base\\model.py:1529: RuntimeWarning: invalid value encountered in multiply\n",
      "  cov_p = self.normalized_cov_params * scale\n"
     ]
    }
   ],
   "source": [
    "final_lhs = df_outcomes['Total_Expected_Number_of_Deaths']\n",
    "X_0 = sm.add_constant(df_experiments)\n",
    "est = sm.OLS(final_lhs, X_0.astype(float)).fit()\n",
    "print(est.summary())\n",
    "print(est.params)"
   ],
   "metadata": {
    "collapsed": false,
    "ExecuteTime": {
     "end_time": "2023-06-07T07:15:08.208072300Z",
     "start_time": "2023-06-07T07:15:08.110247600Z"
    }
   }
  },
  {
   "cell_type": "code",
   "execution_count": 126,
   "outputs": [
    {
     "name": "stdout",
     "output_type": "stream",
     "text": [
      "                                 OLS Regression Results                                \n",
      "=======================================================================================\n",
      "Dep. Variable:     Total_Dike_Investment_Costs   R-squared:                         nan\n",
      "Model:                                     OLS   Adj. R-squared:                    nan\n",
      "Method:                          Least Squares   F-statistic:                       nan\n",
      "Date:                         Wed, 07 Jun 2023   Prob (F-statistic):                nan\n",
      "Time:                                 09:06:21   Log-Likelihood:                    inf\n",
      "No. Observations:                           10   AIC:                              -inf\n",
      "Df Residuals:                                9   BIC:                              -inf\n",
      "Df Model:                                    0                                         \n",
      "Covariance Type:                     nonrobust                                         \n",
      "======================================================================================\n",
      "                         coef    std err          t      P>|t|      [0.025      0.975]\n",
      "--------------------------------------------------------------------------------------\n",
      "const                       0          0        nan        nan           0           0\n",
      "0_RfR 1                     0          0        nan        nan           0           0\n",
      "0_RfR 2                     0          0        nan        nan           0           0\n",
      "0_RfR 3                     0          0        nan        nan           0           0\n",
      "1_RfR 0                     0          0        nan        nan           0           0\n",
      "1_RfR 1                     0          0        nan        nan           0           0\n",
      "1_RfR 2                     0          0        nan        nan           0           0\n",
      "1_RfR 3                     0          0        nan        nan           0           0\n",
      "2_RfR 0                     0          0        nan        nan           0           0\n",
      "2_RfR 1                     0          0        nan        nan           0           0\n",
      "2_RfR 2                     0          0        nan        nan           0           0\n",
      "2_RfR 3                     0          0        nan        nan           0           0\n",
      "3_RfR 0                     0          0        nan        nan           0           0\n",
      "3_RfR 1                     0          0        nan        nan           0           0\n",
      "3_RfR 2                     0          0        nan        nan           0           0\n",
      "3_RfR 3                     0          0        nan        nan           0           0\n",
      "4_RfR 0                     0          0        nan        nan           0           0\n",
      "4_RfR 1                     0          0        nan        nan           0           0\n",
      "4_RfR 2                     0          0        nan        nan           0           0\n",
      "4_RfR 3                     0          0        nan        nan           0           0\n",
      "EWS_DaysToThreat            0          0        nan        nan           0           0\n",
      "A.1_DikeIncrease 0          0          0        nan        nan           0           0\n",
      "A.1_DikeIncrease 1          0          0        nan        nan           0           0\n",
      "A.1_DikeIncrease 2          0          0        nan        nan           0           0\n",
      "A.1_DikeIncrease 3          0          0        nan        nan           0           0\n",
      "A.2_DikeIncrease 0          0          0        nan        nan           0           0\n",
      "A.2_DikeIncrease 1          0          0        nan        nan           0           0\n",
      "A.2_DikeIncrease 2          0          0        nan        nan           0           0\n",
      "A.2_DikeIncrease 3          0          0        nan        nan           0           0\n",
      "A.3_DikeIncrease 0          0          0        nan        nan           0           0\n",
      "A.3_DikeIncrease 1          0          0        nan        nan           0           0\n",
      "A.3_DikeIncrease 2          0          0        nan        nan           0           0\n",
      "A.3_DikeIncrease 3          0          0        nan        nan           0           0\n",
      "A.4_DikeIncrease 0          0          0        nan        nan           0           0\n",
      "A.4_DikeIncrease 1          0          0        nan        nan           0           0\n",
      "A.4_DikeIncrease 2          0          0        nan        nan           0           0\n",
      "A.4_DikeIncrease 3          0          0        nan        nan           0           0\n",
      "A.5_DikeIncrease 0          0          0        nan        nan           0           0\n",
      "A.5_DikeIncrease 1          0          0        nan        nan           0           0\n",
      "A.5_DikeIncrease 2          0          0        nan        nan           0           0\n",
      "A.5_DikeIncrease 3          0          0        nan        nan           0           0\n",
      "==============================================================================\n",
      "Omnibus:                          nan   Durbin-Watson:                     nan\n",
      "Prob(Omnibus):                    nan   Jarque-Bera (JB):                  nan\n",
      "Skew:                             nan   Prob(JB):                          nan\n",
      "Kurtosis:                         nan   Cond. No.                          inf\n",
      "==============================================================================\n",
      "\n",
      "Notes:\n",
      "[1] Standard Errors assume that the covariance matrix of the errors is correctly specified.\n",
      "[2] The input rank is higher than the number of observations.\n",
      "[3] The smallest eigenvalue is      0. This might indicate that there are\n",
      "strong multicollinearity problems or that the design matrix is singular.\n",
      "const                 0.0\n",
      "0_RfR 1               0.0\n",
      "0_RfR 2               0.0\n",
      "0_RfR 3               0.0\n",
      "1_RfR 0               0.0\n",
      "1_RfR 1               0.0\n",
      "1_RfR 2               0.0\n",
      "1_RfR 3               0.0\n",
      "2_RfR 0               0.0\n",
      "2_RfR 1               0.0\n",
      "2_RfR 2               0.0\n",
      "2_RfR 3               0.0\n",
      "3_RfR 0               0.0\n",
      "3_RfR 1               0.0\n",
      "3_RfR 2               0.0\n",
      "3_RfR 3               0.0\n",
      "4_RfR 0               0.0\n",
      "4_RfR 1               0.0\n",
      "4_RfR 2               0.0\n",
      "4_RfR 3               0.0\n",
      "EWS_DaysToThreat      0.0\n",
      "A.1_DikeIncrease 0    0.0\n",
      "A.1_DikeIncrease 1    0.0\n",
      "A.1_DikeIncrease 2    0.0\n",
      "A.1_DikeIncrease 3    0.0\n",
      "A.2_DikeIncrease 0    0.0\n",
      "A.2_DikeIncrease 1    0.0\n",
      "A.2_DikeIncrease 2    0.0\n",
      "A.2_DikeIncrease 3    0.0\n",
      "A.3_DikeIncrease 0    0.0\n",
      "A.3_DikeIncrease 1    0.0\n",
      "A.3_DikeIncrease 2    0.0\n",
      "A.3_DikeIncrease 3    0.0\n",
      "A.4_DikeIncrease 0    0.0\n",
      "A.4_DikeIncrease 1    0.0\n",
      "A.4_DikeIncrease 2    0.0\n",
      "A.4_DikeIncrease 3    0.0\n",
      "A.5_DikeIncrease 0    0.0\n",
      "A.5_DikeIncrease 1    0.0\n",
      "A.5_DikeIncrease 2    0.0\n",
      "A.5_DikeIncrease 3    0.0\n",
      "dtype: float64\n"
     ]
    },
    {
     "name": "stderr",
     "output_type": "stream",
     "text": [
      "C:\\Users\\lvanv\\AppData\\Local\\Programs\\Python\\Python311\\Lib\\site-packages\\scipy\\stats\\_stats_py.py:1736: UserWarning: kurtosistest only valid for n>=20 ... continuing anyway, n=10\n",
      "  warnings.warn(\"kurtosistest only valid for n>=20 ... continuing \"\n",
      "C:\\Users\\lvanv\\AppData\\Local\\Programs\\Python\\Python311\\Lib\\site-packages\\statsmodels\\regression\\linear_model.py:1965: RuntimeWarning: divide by zero encountered in scalar divide\n",
      "  return np.sqrt(eigvals[0]/eigvals[-1])\n",
      "C:\\Users\\lvanv\\AppData\\Local\\Programs\\Python\\Python311\\Lib\\site-packages\\statsmodels\\regression\\linear_model.py:1781: RuntimeWarning: invalid value encountered in scalar divide\n",
      "  return 1 - self.ssr/self.centered_tss\n",
      "C:\\Users\\lvanv\\AppData\\Local\\Programs\\Python\\Python311\\Lib\\site-packages\\statsmodels\\regression\\linear_model.py:956: RuntimeWarning: divide by zero encountered in log\n",
      "  llf = -nobs2*np.log(2*np.pi) - nobs2*np.log(ssr / nobs) - nobs2\n",
      "C:\\Users\\lvanv\\AppData\\Local\\Programs\\Python\\Python311\\Lib\\site-packages\\statsmodels\\stats\\stattools.py:50: RuntimeWarning: invalid value encountered in scalar divide\n",
      "  dw = np.sum(diff_resids**2, axis=axis) / np.sum(resids**2, axis=axis)\n"
     ]
    }
   ],
   "source": [
    "final_lhs = df_outcomes['Total_Dike_Investment_Costs']\n",
    "X_0 = sm.add_constant(df_input_experiments)\n",
    "est = sm.OLS(final_lhs, X_0.astype(float)).fit()\n",
    "print(est.summary())\n",
    "print(est.params)"
   ],
   "metadata": {
    "collapsed": false,
    "ExecuteTime": {
     "end_time": "2023-06-07T07:06:21.554890300Z",
     "start_time": "2023-06-07T07:06:21.483930200Z"
    }
   }
  },
  {
   "cell_type": "code",
   "execution_count": 127,
   "outputs": [
    {
     "name": "stdout",
     "output_type": "stream",
     "text": [
      "                                 OLS Regression Results                                \n",
      "=======================================================================================\n",
      "Dep. Variable:     Total_Expected_Anual_Dagame   R-squared:                       0.000\n",
      "Model:                                     OLS   Adj. R-squared:                  0.000\n",
      "Method:                          Least Squares   F-statistic:                       nan\n",
      "Date:                         Wed, 07 Jun 2023   Prob (F-statistic):                nan\n",
      "Time:                                 09:07:47   Log-Likelihood:                -261.62\n",
      "No. Observations:                           10   AIC:                             525.2\n",
      "Df Residuals:                                9   BIC:                             525.5\n",
      "Df Model:                                    0                                         \n",
      "Covariance Type:                     nonrobust                                         \n",
      "======================================================================================\n",
      "                         coef    std err          t      P>|t|      [0.025      0.975]\n",
      "--------------------------------------------------------------------------------------\n",
      "const               9.471e+10   1.86e+10      5.102      0.001    5.27e+10    1.37e+11\n",
      "0_RfR 1                     0          0        nan        nan           0           0\n",
      "0_RfR 2                     0          0        nan        nan           0           0\n",
      "0_RfR 3                     0          0        nan        nan           0           0\n",
      "1_RfR 0                     0          0        nan        nan           0           0\n",
      "1_RfR 1                     0          0        nan        nan           0           0\n",
      "1_RfR 2                     0          0        nan        nan           0           0\n",
      "1_RfR 3                     0          0        nan        nan           0           0\n",
      "2_RfR 0                     0          0        nan        nan           0           0\n",
      "2_RfR 1                     0          0        nan        nan           0           0\n",
      "2_RfR 2                     0          0        nan        nan           0           0\n",
      "2_RfR 3                     0          0        nan        nan           0           0\n",
      "3_RfR 0                     0          0        nan        nan           0           0\n",
      "3_RfR 1                     0          0        nan        nan           0           0\n",
      "3_RfR 2                     0          0        nan        nan           0           0\n",
      "3_RfR 3                     0          0        nan        nan           0           0\n",
      "4_RfR 0                     0          0        nan        nan           0           0\n",
      "4_RfR 1                     0          0        nan        nan           0           0\n",
      "4_RfR 2                     0          0        nan        nan           0           0\n",
      "4_RfR 3                     0          0        nan        nan           0           0\n",
      "EWS_DaysToThreat            0          0        nan        nan           0           0\n",
      "A.1_DikeIncrease 0          0          0        nan        nan           0           0\n",
      "A.1_DikeIncrease 1          0          0        nan        nan           0           0\n",
      "A.1_DikeIncrease 2          0          0        nan        nan           0           0\n",
      "A.1_DikeIncrease 3          0          0        nan        nan           0           0\n",
      "A.2_DikeIncrease 0          0          0        nan        nan           0           0\n",
      "A.2_DikeIncrease 1          0          0        nan        nan           0           0\n",
      "A.2_DikeIncrease 2          0          0        nan        nan           0           0\n",
      "A.2_DikeIncrease 3          0          0        nan        nan           0           0\n",
      "A.3_DikeIncrease 0          0          0        nan        nan           0           0\n",
      "A.3_DikeIncrease 1          0          0        nan        nan           0           0\n",
      "A.3_DikeIncrease 2          0          0        nan        nan           0           0\n",
      "A.3_DikeIncrease 3          0          0        nan        nan           0           0\n",
      "A.4_DikeIncrease 0          0          0        nan        nan           0           0\n",
      "A.4_DikeIncrease 1          0          0        nan        nan           0           0\n",
      "A.4_DikeIncrease 2          0          0        nan        nan           0           0\n",
      "A.4_DikeIncrease 3          0          0        nan        nan           0           0\n",
      "A.5_DikeIncrease 0          0          0        nan        nan           0           0\n",
      "A.5_DikeIncrease 1          0          0        nan        nan           0           0\n",
      "A.5_DikeIncrease 2          0          0        nan        nan           0           0\n",
      "A.5_DikeIncrease 3          0          0        nan        nan           0           0\n",
      "==============================================================================\n",
      "Omnibus:                        5.513   Durbin-Watson:                   1.645\n",
      "Prob(Omnibus):                  0.064   Jarque-Bera (JB):                1.311\n",
      "Skew:                          -0.239   Prob(JB):                        0.519\n",
      "Kurtosis:                       1.291   Cond. No.                          inf\n",
      "==============================================================================\n",
      "\n",
      "Notes:\n",
      "[1] Standard Errors assume that the covariance matrix of the errors is correctly specified.\n",
      "[2] The input rank is higher than the number of observations.\n",
      "[3] The smallest eigenvalue is      0. This might indicate that there are\n",
      "strong multicollinearity problems or that the design matrix is singular.\n",
      "const                 9.471403e+10\n",
      "0_RfR 1               0.000000e+00\n",
      "0_RfR 2               0.000000e+00\n",
      "0_RfR 3               0.000000e+00\n",
      "1_RfR 0               0.000000e+00\n",
      "1_RfR 1               0.000000e+00\n",
      "1_RfR 2               0.000000e+00\n",
      "1_RfR 3               0.000000e+00\n",
      "2_RfR 0               0.000000e+00\n",
      "2_RfR 1               0.000000e+00\n",
      "2_RfR 2               0.000000e+00\n",
      "2_RfR 3               0.000000e+00\n",
      "3_RfR 0               0.000000e+00\n",
      "3_RfR 1               0.000000e+00\n",
      "3_RfR 2               0.000000e+00\n",
      "3_RfR 3               0.000000e+00\n",
      "4_RfR 0               0.000000e+00\n",
      "4_RfR 1               0.000000e+00\n",
      "4_RfR 2               0.000000e+00\n",
      "4_RfR 3               0.000000e+00\n",
      "EWS_DaysToThreat      0.000000e+00\n",
      "A.1_DikeIncrease 0    0.000000e+00\n",
      "A.1_DikeIncrease 1    0.000000e+00\n",
      "A.1_DikeIncrease 2    0.000000e+00\n",
      "A.1_DikeIncrease 3    0.000000e+00\n",
      "A.2_DikeIncrease 0    0.000000e+00\n",
      "A.2_DikeIncrease 1    0.000000e+00\n",
      "A.2_DikeIncrease 2    0.000000e+00\n",
      "A.2_DikeIncrease 3    0.000000e+00\n",
      "A.3_DikeIncrease 0    0.000000e+00\n",
      "A.3_DikeIncrease 1    0.000000e+00\n",
      "A.3_DikeIncrease 2    0.000000e+00\n",
      "A.3_DikeIncrease 3    0.000000e+00\n",
      "A.4_DikeIncrease 0    0.000000e+00\n",
      "A.4_DikeIncrease 1    0.000000e+00\n",
      "A.4_DikeIncrease 2    0.000000e+00\n",
      "A.4_DikeIncrease 3    0.000000e+00\n",
      "A.5_DikeIncrease 0    0.000000e+00\n",
      "A.5_DikeIncrease 1    0.000000e+00\n",
      "A.5_DikeIncrease 2    0.000000e+00\n",
      "A.5_DikeIncrease 3    0.000000e+00\n",
      "dtype: float64\n"
     ]
    },
    {
     "name": "stderr",
     "output_type": "stream",
     "text": [
      "C:\\Users\\lvanv\\AppData\\Local\\Programs\\Python\\Python311\\Lib\\site-packages\\scipy\\stats\\_stats_py.py:1736: UserWarning: kurtosistest only valid for n>=20 ... continuing anyway, n=10\n",
      "  warnings.warn(\"kurtosistest only valid for n>=20 ... continuing \"\n",
      "C:\\Users\\lvanv\\AppData\\Local\\Programs\\Python\\Python311\\Lib\\site-packages\\statsmodels\\regression\\linear_model.py:1965: RuntimeWarning: divide by zero encountered in scalar divide\n",
      "  return np.sqrt(eigvals[0]/eigvals[-1])\n"
     ]
    }
   ],
   "source": [
    "final_lhs = df_outcomes['Total_Expected_Anual_Dagame']\n",
    "X_0 = sm.add_constant(df_input_experiments)\n",
    "est = sm.OLS(final_lhs, X_0.astype(float)).fit()\n",
    "print(est.summary())\n",
    "print(est.params)\n"
   ],
   "metadata": {
    "collapsed": false,
    "ExecuteTime": {
     "end_time": "2023-06-07T07:07:47.074586600Z",
     "start_time": "2023-06-07T07:07:47.016215500Z"
    }
   }
  },
  {
   "cell_type": "code",
   "execution_count": null,
   "outputs": [],
   "source": [],
   "metadata": {
    "collapsed": false
   }
  }
 ],
 "metadata": {
  "kernelspec": {
   "display_name": "Python 3",
   "language": "python",
   "name": "python3"
  },
  "language_info": {
   "codemirror_mode": {
    "name": "ipython",
    "version": 2
   },
   "file_extension": ".py",
   "mimetype": "text/x-python",
   "name": "python",
   "nbconvert_exporter": "python",
   "pygments_lexer": "ipython2",
   "version": "2.7.6"
  }
 },
 "nbformat": 4,
 "nbformat_minor": 0
}
