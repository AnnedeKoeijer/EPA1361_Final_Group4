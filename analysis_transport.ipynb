{
 "cells": [
  {
   "cell_type": "code",
   "execution_count": 31,
   "metadata": {
    "ExecuteTime": {
     "end_time": "2023-06-22T13:46:56.815792Z",
     "start_time": "2023-06-22T13:46:56.285605Z"
    }
   },
   "outputs": [],
   "source": [
    "import pandas as pd\n",
    "import matplotlib.pyplot as plt"
   ]
  },
  {
   "cell_type": "markdown",
   "source": [
    "# Analysis Transport Company\n",
    "As the transport company, we feel that the outcomes of the model are not enough to determine the costs of certain policies. We feel that allowing room for river in certain dikes will definitely decrease the water level, and lead to an economically less favourable outcome. To illustrate this, the following notebook analyses the economic effect of transport on the IJssel river."
   ],
   "metadata": {
    "collapsed": false
   }
  },
  {
   "cell_type": "code",
   "execution_count": 32,
   "metadata": {
    "ExecuteTime": {
     "end_time": "2023-06-22T13:46:56.878906Z",
     "start_time": "2023-06-22T13:46:56.326908Z"
    }
   },
   "outputs": [],
   "source": [
    "# We import data from CBS which can help us determine this. The data can be found in the data directory.\n",
    "\n",
    "eco_benefit = pd.read_csv('data/economic_benefit.csv', delimiter=';')\n",
    "revenue = pd.read_csv('data/revenue_transport.csv', delimiter=';')\n",
    "value = pd.read_csv('data/economic_value.csv', delimiter=';')\n",
    "transport_to = pd.read_csv('data/transport_to.csv', delimiter=',')\n",
    "transport_from = pd.read_csv('data/transport_from.csv', delimiter=',')"
   ]
  },
  {
   "cell_type": "code",
   "execution_count": 33,
   "metadata": {
    "ExecuteTime": {
     "end_time": "2023-06-22T13:46:56.879369Z",
     "start_time": "2023-06-22T13:46:56.374607Z"
    }
   },
   "outputs": [],
   "source": [
    "revenue['Jaar'] = revenue['Perioden'].apply(lambda x: x[:4])"
   ]
  },
  {
   "cell_type": "code",
   "execution_count": 34,
   "metadata": {
    "ExecuteTime": {
     "end_time": "2023-06-22T13:46:56.910675Z",
     "start_time": "2023-06-22T13:46:56.384800Z"
    }
   },
   "outputs": [],
   "source": [
    "total = revenue.merge(value,'left')"
   ]
  },
  {
   "cell_type": "code",
   "execution_count": 35,
   "metadata": {
    "ExecuteTime": {
     "end_time": "2023-06-22T13:46:56.910884Z",
     "start_time": "2023-06-22T13:46:56.405280Z"
    }
   },
   "outputs": [],
   "source": [
    "transport = transport_to.merge(transport_from)"
   ]
  },
  {
   "cell_type": "markdown",
   "source": [
    "We define transport as the sum of weight to parts of the IJssel and weight from these parts. This is then divided by the total weight transported in the Netherlands. This leaves us with the fraction transport going over the IJssel."
   ],
   "metadata": {
    "collapsed": false
   }
  },
  {
   "cell_type": "code",
   "execution_count": 36,
   "metadata": {
    "ExecuteTime": {
     "end_time": "2023-06-22T13:46:56.910950Z",
     "start_time": "2023-06-22T13:46:56.413116Z"
    }
   },
   "outputs": [],
   "source": [
    "transport['sum'] = transport['Bruto gewicht gelost'] + transport['Bruto gewicht geladen']"
   ]
  },
  {
   "cell_type": "code",
   "execution_count": 37,
   "metadata": {
    "ExecuteTime": {
     "end_time": "2023-06-22T13:46:56.911002Z",
     "start_time": "2023-06-22T13:46:56.421018Z"
    }
   },
   "outputs": [],
   "source": [
    "relevant_transport = transport[transport['Coropnaam'].str.contains('Overijssel') | \\\n",
    "                               transport['Coropnaam'].str.contains('Achterhoek') | \\\n",
    "                               transport['Coropnaam'].str.contains('Twente')].copy()"
   ]
  },
  {
   "cell_type": "code",
   "execution_count": 38,
   "metadata": {
    "ExecuteTime": {
     "end_time": "2023-06-22T13:46:56.971385Z",
     "start_time": "2023-06-22T13:46:56.428457Z"
    }
   },
   "outputs": [],
   "source": [
    "total_relevant = relevant_transport['sum'].sum()"
   ]
  },
  {
   "cell_type": "code",
   "execution_count": 39,
   "metadata": {
    "ExecuteTime": {
     "end_time": "2023-06-22T13:46:56.971586Z",
     "start_time": "2023-06-22T13:46:56.440415Z"
    }
   },
   "outputs": [],
   "source": [
    "total_transport = transport['sum'].sum()"
   ]
  },
  {
   "cell_type": "code",
   "execution_count": 40,
   "metadata": {
    "ExecuteTime": {
     "end_time": "2023-06-22T13:46:56.971829Z",
     "start_time": "2023-06-22T13:46:56.446719Z"
    }
   },
   "outputs": [
    {
     "name": "stdout",
     "output_type": "stream",
     "text": [
      "The percentage of transport in the relevant provinces is: 6%\n"
     ]
    }
   ],
   "source": [
    "percentage = total_relevant/total_transport\n",
    "print(f'The percentage of transport in the relevant provinces is: {round(percentage*100)}%')"
   ]
  },
  {
   "cell_type": "markdown",
   "source": [
    "We then use this percentage as a way to convert the total added value of the transport sector specific to the IJssel."
   ],
   "metadata": {
    "collapsed": false
   }
  },
  {
   "cell_type": "code",
   "execution_count": 41,
   "outputs": [],
   "source": [
    "total = total.fillna(0)"
   ],
   "metadata": {
    "collapsed": false,
    "ExecuteTime": {
     "end_time": "2023-06-22T13:46:56.971886Z",
     "start_time": "2023-06-22T13:46:56.468393Z"
    }
   }
  },
  {
   "cell_type": "code",
   "execution_count": 42,
   "metadata": {
    "ExecuteTime": {
     "end_time": "2023-06-22T13:46:56.973681Z",
     "start_time": "2023-06-22T13:46:56.474530Z"
    }
   },
   "outputs": [],
   "source": [
    "total['Toegevoegde waarde (miljard euro)'] = total['Toegevoegde waarde (miljard euro)'].apply(lambda x: str(x).replace(',','.'))"
   ]
  },
  {
   "cell_type": "code",
   "execution_count": 43,
   "metadata": {
    "ExecuteTime": {
     "end_time": "2023-06-22T13:46:56.973757Z",
     "start_time": "2023-06-22T13:46:56.493245Z"
    }
   },
   "outputs": [],
   "source": [
    "total['Toegevoegde waarde (miljard euro)'] = total['Toegevoegde waarde (miljard euro)'].astype(float)"
   ]
  },
  {
   "cell_type": "code",
   "execution_count": 44,
   "metadata": {
    "ExecuteTime": {
     "end_time": "2023-06-22T13:46:56.973880Z",
     "start_time": "2023-06-22T13:46:56.503898Z"
    }
   },
   "outputs": [],
   "source": [
    "total['Indexcijfers omzet (2015=100)'] = total['Indexcijfers omzet (2015=100)'].apply(lambda x: x.replace(',','.'))\n",
    "total['Indexcijfers omzet (2015=100)'] = total['Indexcijfers omzet (2015=100)'].astype('float')"
   ]
  },
  {
   "cell_type": "code",
   "execution_count": 45,
   "metadata": {
    "ExecuteTime": {
     "end_time": "2023-06-22T13:46:56.974086Z",
     "start_time": "2023-06-22T13:46:56.509466Z"
    }
   },
   "outputs": [],
   "source": [
    "total['economic benefit'] = total['Toegevoegde waarde (miljard euro)']*percentage"
   ]
  },
  {
   "cell_type": "code",
   "execution_count": 46,
   "metadata": {
    "ExecuteTime": {
     "end_time": "2023-06-22T13:46:56.974143Z",
     "start_time": "2023-06-22T13:46:56.525118Z"
    }
   },
   "outputs": [],
   "source": [
    "total['revenue ijssel'] = total['Indexcijfers omzet (2015=100)']*percentage"
   ]
  },
  {
   "cell_type": "code",
   "execution_count": 47,
   "metadata": {
    "ExecuteTime": {
     "end_time": "2023-06-22T13:46:57.810933Z",
     "start_time": "2023-06-22T13:46:56.627477Z"
    }
   },
   "outputs": [
    {
     "name": "stderr",
     "output_type": "stream",
     "text": [
      "/var/folders/lk/0x9d24vx0lxcjbyt8sqwmpx00000gn/T/ipykernel_4401/2264192071.py:4: UserWarning: FixedFormatter should only be used together with FixedLocator\n",
      "  ax.set_xticklabels(total['Jaar'])\n"
     ]
    },
    {
     "data": {
      "text/plain": "<Figure size 1000x500 with 1 Axes>",
      "image/png": "[encoded data removed]"
     },
     "metadata": {},
     "output_type": "display_data"
    }
   ],
   "source": [
    "fig, ax = plt.subplots(figsize=(10,5))\n",
    "\n",
    "ax.plot('Perioden', 'revenue ijssel', data=total)\n",
    "ax.set_xticklabels(total['Jaar'])\n",
    "[l.set_visible(False) for (i,l) in enumerate(ax.xaxis.get_ticklabels()) if i % 4 != 0]\n",
    "\n",
    "ax.set_xlabel('Year')\n",
    "ax.set_ylabel('Revenue change (%)')\n",
    "ax.set_title('Revenue over time transport through rivers')\n",
    "\n",
    "plt.show()"
   ]
  },
  {
   "cell_type": "markdown",
   "source": [
    "The above graph shows the relative growth overtime of the revenue of transport, making it an extremely relevant sector to maintain."
   ],
   "metadata": {
    "collapsed": false
   }
  },
  {
   "cell_type": "code",
   "execution_count": 48,
   "metadata": {
    "ExecuteTime": {
     "end_time": "2023-06-22T13:46:57.883759Z",
     "start_time": "2023-06-22T13:46:57.838144Z"
    }
   },
   "outputs": [
    {
     "data": {
      "text/plain": "   Bedrijfstakken/branches (SBI 2008)          Perioden  \\\n56                503-504 Binnenvaart  2019 1e kwartaal   \n57                503-504 Binnenvaart  2019 2e kwartaal   \n58                503-504 Binnenvaart  2019 3e kwartaal   \n59                503-504 Binnenvaart  2019 4e kwartaal   \n\n    Indexcijfers omzet (2015=100)  \\\n56                           98.8   \n57                          105.9   \n58                          104.2   \n59                          102.6   \n\n   Omzetontwikkeling t.o.v. een jaar eerder (%)  Jaar  \\\n56                                         10,8  2019   \n57                                          4,3  2019   \n58                                        -10,3  2019   \n59                                        -19,1  2019   \n\n    Toegevoegde waarde (miljard euro)  Werkgelegenheid (duizend vte)  \\\n56                              2.654                           19.0   \n57                              2.654                           19.0   \n58                              2.654                           19.0   \n59                              2.654                           19.0   \n\n    economic benefit  revenue ijssel  \n56          0.161478        6.011299  \n57          0.161478        6.443286  \n58          0.161478        6.339852  \n59          0.161478        6.242503  ",
      "text/html": "<div>\n<style scoped>\n    .dataframe tbody tr th:only-of-type {\n        vertical-align: middle;\n    }\n\n    .dataframe tbody tr th {\n        vertical-align: top;\n    }\n\n    .dataframe thead th {\n        text-align: right;\n    }\n</style>\n<table border=\"1\" class=\"dataframe\">\n  <thead>\n    <tr style=\"text-align: right;\">\n      <th></th>\n      <th>Bedrijfstakken/branches (SBI 2008)</th>\n      <th>Perioden</th>\n      <th>Indexcijfers omzet (2015=100)</th>\n      <th>Omzetontwikkeling t.o.v. een jaar eerder (%)</th>\n      <th>Jaar</th>\n      <th>Toegevoegde waarde (miljard euro)</th>\n      <th>Werkgelegenheid (duizend vte)</th>\n      <th>economic benefit</th>\n      <th>revenue ijssel</th>\n    </tr>\n  </thead>\n  <tbody>\n    <tr>\n      <th>56</th>\n      <td>503-504 Binnenvaart</td>\n      <td>2019 1e kwartaal</td>\n      <td>98.8</td>\n      <td>10,8</td>\n      <td>2019</td>\n      <td>2.654</td>\n      <td>19.0</td>\n      <td>0.161478</td>\n      <td>6.011299</td>\n    </tr>\n    <tr>\n      <th>57</th>\n      <td>503-504 Binnenvaart</td>\n      <td>2019 2e kwartaal</td>\n      <td>105.9</td>\n      <td>4,3</td>\n      <td>2019</td>\n      <td>2.654</td>\n      <td>19.0</td>\n      <td>0.161478</td>\n      <td>6.443286</td>\n    </tr>\n    <tr>\n      <th>58</th>\n      <td>503-504 Binnenvaart</td>\n      <td>2019 3e kwartaal</td>\n      <td>104.2</td>\n      <td>-10,3</td>\n      <td>2019</td>\n      <td>2.654</td>\n      <td>19.0</td>\n      <td>0.161478</td>\n      <td>6.339852</td>\n    </tr>\n    <tr>\n      <th>59</th>\n      <td>503-504 Binnenvaart</td>\n      <td>2019 4e kwartaal</td>\n      <td>102.6</td>\n      <td>-19,1</td>\n      <td>2019</td>\n      <td>2.654</td>\n      <td>19.0</td>\n      <td>0.161478</td>\n      <td>6.242503</td>\n    </tr>\n  </tbody>\n</table>\n</div>"
     },
     "execution_count": 48,
     "metadata": {},
     "output_type": "execute_result"
    }
   ],
   "source": [
    "total[total['Jaar']=='2019']"
   ]
  },
  {
   "cell_type": "code",
   "execution_count": 50,
   "outputs": [
    {
     "data": {
      "text/plain": "Jaar\n2019    0.161478\nName: economic benefit, dtype: float64"
     },
     "execution_count": 50,
     "metadata": {},
     "output_type": "execute_result"
    }
   ],
   "source": [
    "total[total['Jaar']=='2019'].groupby('Jaar').mean(numeric_only=True)['economic benefit']"
   ],
   "metadata": {
    "collapsed": false,
    "ExecuteTime": {
     "end_time": "2023-06-22T13:50:26.631858Z",
     "start_time": "2023-06-22T13:50:26.613024Z"
    }
   }
  },
  {
   "cell_type": "markdown",
   "source": [
    "Finally, we surmise that transport over the IJssel river results in a revenue of 161 million."
   ],
   "metadata": {
    "collapsed": false
   }
  }
 ],
 "metadata": {
  "kernelspec": {
   "display_name": "Python 3",
   "language": "python",
   "name": "python3"
  },
  "language_info": {
   "codemirror_mode": {
    "name": "ipython",
    "version": 3
   },
   "file_extension": ".py",
   "mimetype": "text/x-python",
   "name": "python",
   "nbconvert_exporter": "python",
   "pygments_lexer": "ipython3",
   "version": "3.8.5"
  }
 },
 "nbformat": 4,
 "nbformat_minor": 1
}
